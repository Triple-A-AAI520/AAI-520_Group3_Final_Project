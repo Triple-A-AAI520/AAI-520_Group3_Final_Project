{
  "nbformat": 4,
  "nbformat_minor": 0,
  "metadata": {
    "colab": {
      "provenance": []
    },
    "kernelspec": {
      "name": "python3",
      "display_name": "Python 3"
    },
    "language_info": {
      "name": "python"
    }
  },
  "cells": [
    {
      "cell_type": "code",
      "execution_count": null,
      "metadata": {
        "id": "dHK40eelMPAm"
      },
      "outputs": [],
      "source": [
        "!pip install feedparser\n",
        "!pip install newspaper3k\n",
        "!pip install gnews\n",
        "!pip install lxml_html_clean"
      ]
    },
    {
      "cell_type": "code",
      "source": [
        "import re, os, requests, json, yfinance as yf\n",
        "from datetime import datetime, timedelta\n",
        "from getpass import getpass\n",
        "from langchain.llms.base import LLM\n",
        "import matplotlib.pyplot as plt\n",
        "from langchain.agents import initialize_agent, Tool, AgentType\n",
        "from gnews import GNews\n",
        "import spacy\n",
        "import os, requests\n",
        "from getpass import getpass\n",
        "from langchain.llms.base import LLM\n",
        "import math\n",
        "\n",
        "# Load spaCy model\n",
        "nlp = spacy.load(\"en_core_web_sm\")"
      ],
      "metadata": {
        "id": "DtfnEBRqDNtm"
      },
      "execution_count": 10,
      "outputs": []
    },
    {
      "cell_type": "markdown",
      "source": [
        "Configurations"
      ],
      "metadata": {
        "id": "sivwaYCgoOwf"
      }
    },
    {
      "cell_type": "code",
      "source": [
        "TRUSTED_SOURCES = [\n",
        "    \"reuters\", \"bloomberg\", \"wsj\", \"cnbc\", \"financial times\", \"ft.com\",\n",
        "    \"the wall street journal\", \"the financial times\", \"the economist\", \"the new york times\",\n",
        "    \"the washington post\", \"the guardian\", \"the times\", \"the telegraph\",\n",
        "    \"cnn business\", \"bbc business\", \"nbc business\", \"cbs business\", \"abc business\",\n",
        "    \"the street\", \"investopedia\", \"fool.com\",\n",
        "    \"marketwatch\", \"barrons\", \"economist\", \"forbes\", \"morningstar\", \"yahoo finance\",\n",
        "    \"zacks\", \"seekingalpha\", \"investopedia\", \"fool\", \"thestreet\", \"nasdaq\",\n",
        "    \"bbc\", \"guardian\", \"nytimes\", \"washingtonpost\", \"time\", \"npr\",\n",
        "    \"abc news\", \"nbc news\", \"cbs news\", \"usa today\", \"politico\", \"axios\",\n",
        "    \"business insider\", \"fortune\", \"fastcompany\", \"wired\", \"venturebeat\", \"protocol\",\n",
        "    \"associated press\", \"apnews\", \"upi\", \"businesswire\", \"prnewswire\", \"globenewswire\",\n",
        "    \"marketwired\", \"thestockmarketwire\", \"securities and exchange commission\",\n",
        "    \"techcrunch\", \"arstechnica\", \"fiercebiotech\", \"fiercepharma\", \"medscape\",\n",
        "    \"biopharmadive\", \"supplychaindive\", \"retaildive\", \"cfo.com\",\n",
        "    \"nikkei\", \"asiafinancial\", \"scmp\", \"south china morning post\",\n",
        "    \"the hindu business line\", \"economic times\", \"livemint\",\n",
        "    \"afr.com\", \"the australian financial review\", \"globe and mail\", \"canadianbusiness\",\n",
        "    \"les echos\", \"handelsblatt\", \"deutsche welle\", \"elpais\", \"expansion\",\n",
        "    \"benzinga\", \"kiplinger\", \"marketscreener\", \"tradingeconomics\", \"fxstreet\",\n",
        "    \"cointelegraph\", \"coindesk\", \"cryptoslate\", \"etftrends\", \"etfdailynews\"\n",
        "]\n",
        "\n",
        "\n",
        "KEY_TERMS = {\"earnings\", \"sec filing\", \"guidance\", \"revenue\", \"acquisition\", \"partnership\", \"ceo\", \"cfo\"}\n",
        "GEMINI_MODEL = \"gemini-2.5-pro\""
      ],
      "metadata": {
        "id": "3RSWLCUsoMR7"
      },
      "execution_count": 11,
      "outputs": []
    },
    {
      "cell_type": "markdown",
      "source": [
        "Utilities"
      ],
      "metadata": {
        "id": "h_lsXX3coeKG"
      }
    },
    {
      "cell_type": "code",
      "source": [
        "def safe_json_parse(raw: str):\n",
        "    try:\n",
        "        return json.loads(raw)\n",
        "    except:\n",
        "        cleaned = raw.strip()\n",
        "        cleaned = re.sub(r\"^```(json)?\", \"\", cleaned)\n",
        "        cleaned = re.sub(r\"```$\", \"\", cleaned)\n",
        "        cleaned = cleaned.strip()\n",
        "\n",
        "        try:\n",
        "            return json.loads(cleaned)\n",
        "        except:\n",
        "            match = re.search(r\"\\{.*\\}\", raw, re.DOTALL)\n",
        "            if match:\n",
        "                return json.loads(match.group(0))\n",
        "            raise ValueError(f\"Could not parse JSON:\\n{raw}\")"
      ],
      "metadata": {
        "id": "2Jwdv_u9oXuE"
      },
      "execution_count": 4,
      "outputs": []
    },
    {
      "cell_type": "code",
      "source": [
        "# Display the analysis plan in a readable format\n",
        "def display_plan(plan_json: str):\n",
        "    try:\n",
        "        plan = json.loads(plan_json) if isinstance(plan_json, str) else plan_json\n",
        "    except Exception as e:\n",
        "        print(\"Could not parse plan JSON:\", e)\n",
        "        print(plan_json)\n",
        "        return\n",
        "\n",
        "    print(\"\\n Analysis Plan\")\n",
        "    print(\"=\"*60)\n",
        "\n",
        "    steps = plan.get(\"plan\", plan)  # handle both wrapped or plain JSON\n",
        "    for step in steps:\n",
        "        num = step.get(\"step_number\", \"?\")\n",
        "        action = step.get(\"action\", \"\")\n",
        "        tool = step.get(\"tool_needed\", \"\")\n",
        "        desc = step.get(\"description\", \"\")\n",
        "        print(f\" Step {num}: {action}\")\n",
        "        print(f\" Tool   : {tool}\")\n",
        "        print(f\" Detail : {desc}\\n\")\n",
        "\n",
        "    print(\"=\"*60)\n",
        "\n",
        "# Function to display the report in a readable format\n",
        "def display_report(data: dict, hist_prices=None):\n",
        "    print(\"=\"*60)\n",
        "    print(f\"Financial Report: {data['symbol']}\")\n",
        "    print(\"=\"*60)\n",
        "\n",
        "    # Price Analysis\n",
        "    print(\"\\n Price Analysis\")\n",
        "    pa = data[\"price_analysis\"]\n",
        "    print(f\"   Current Price      : {pa['current_price']}\")\n",
        "    print(f\"   30-Day Moving Avg  : {pa['30d_moving_avg']}\")\n",
        "    print(f\"   Trend              : {pa['trend']}\")\n",
        "\n",
        "    # News Analysis\n",
        "    print(\"\\n News Analysis\")\n",
        "    na = data[\"news_analysis\"]\n",
        "    print(f\"   Sentiment     : {na['sentiment']}\")\n",
        "    print(f\"   Classification: {na['classification']}\")\n",
        "    print(f\"   Summary       : {na['Summary']}\")\n",
        "\n",
        "    # Earnings Analysis\n",
        "    print(\"\\n Earnings Analysis\")\n",
        "    ea = data[\"earnings_analysis\"]\n",
        "    print(f\"   EPS       : {ea['EPS']}\")\n",
        "    print(f\"   Revenue   : {ea['Revenue']}\")\n",
        "    print(f\"   Guidance  : {ea['Guidance']}\")\n",
        "    print(f\"   Summary   : {ea['Summary']}\")\n",
        "\n",
        "    print(\"\\n\" + \"=\"*60)\n",
        "\n",
        "        # Chart 1: Price trend\n",
        "    if hist_prices is not None and not hist_prices.empty:\n",
        "        plt.figure(figsize=(10,5))\n",
        "        plt.plot(hist_prices.index, hist_prices[\"Close\"], label=\"Close Price\", linewidth=2)\n",
        "        plt.axhline(y=float(pa[\"30d_moving_avg\"]), color=\"red\", linestyle=\"--\", label=\"30D Moving Avg\")\n",
        "        plt.title(f\"{data['symbol']} - Last 30 Days Price Trend\")\n",
        "        plt.xlabel(\"Date\")\n",
        "        plt.ylabel(\"Price (USD)\")\n",
        "        plt.legend()\n",
        "        plt.grid(True)\n",
        "        plt.show()\n",
        "\n",
        "    # Chart 2: Sentiment distribution\n",
        "    sentiments = [na[\"sentiment\"]]\n",
        "    sentiment_counts = {s: sentiments.count(s) for s in set(sentiments)}\n",
        "\n",
        "    plt.figure(figsize=(6,4))\n",
        "    plt.bar(sentiment_counts.keys(), sentiment_counts.values(), color=[\"green\",\"red\",\"gray\"])\n",
        "    plt.title(\"Sentiment Distribution\")\n",
        "    plt.ylabel(\"Count\")\n",
        "    plt.show()"
      ],
      "metadata": {
        "id": "_yKDxhPcejPC"
      },
      "execution_count": 12,
      "outputs": []
    },
    {
      "cell_type": "markdown",
      "source": [
        "Finance Tools:\n",
        "Retrives Stock Prices Data from Yahho Finanace"
      ],
      "metadata": {
        "id": "j7ne3rTYo15s"
      }
    },
    {
      "cell_type": "code",
      "source": [
        "def get_price_data(ticker: str):\n",
        "  stock = yf.Ticker(ticker)\n",
        "  hist = stock.history(period=\"30d\")\n",
        "  if hist.empty:\n",
        "      return {\"current_price\": None, \"30d_moving_avg\": None, \"trend\": \"unknown\"}\n",
        "\n",
        "  current_price = float(hist[\"Close\"].iloc[-1])\n",
        "  moving_avg = float(hist[\"Close\"].mean())\n",
        "  trend = \"up\" if current_price > moving_avg else \"down\"\n",
        "\n",
        "  return {\n",
        "      \"current_price\": f\"{current_price:.2f}\",\n",
        "      \"30d_moving_avg\": f\"{moving_avg:.2f}\",\n",
        "      \"trend\": trend,\n",
        "  }\n",
        "\n",
        "def get_eps_revenue(ticker: str):\n",
        "  t = yf.Ticker(ticker)\n",
        "\n",
        "  cal = t.get_earnings_dates(limit=8).sort_index()\n",
        "  eps = float(cal[cal[\"Reported EPS\"].notna()].iloc[-1][\"Reported EPS\"])\n",
        "  revenue = int(t.quarterly_income_stmt.loc[\"Total Revenue\"].iloc[0])\n",
        "\n",
        "  return {\n",
        "      \"EPS\": f\"{eps:.2f} USD/share\",\n",
        "      \"Revenue\": f\"${revenue:,.0f} (USD)\"\n",
        "  }"
      ],
      "metadata": {
        "id": "O3wsI5umo0Bb"
      },
      "execution_count": 5,
      "outputs": []
    },
    {
      "cell_type": "markdown",
      "source": [
        "News Tools"
      ],
      "metadata": {
        "id": "HCy3u_hVpuTp"
      }
    },
    {
      "cell_type": "code",
      "source": [
        "def fetch_news(ticker: str, max_articles: int = 1):\n",
        "    google_news = GNews(language=\"en\", country=\"US\", period=\"90d\", max_results=20)\n",
        "    results = google_news.get_news(f\"{ticker} stock\")\n",
        "\n",
        "    cutoff = datetime.now() - timedelta(days=90)\n",
        "    articles = []\n",
        "\n",
        "    for article in results:\n",
        "        title = article.get(\"title\", \"\")\n",
        "        summary = article.get(\"description\", \"\")\n",
        "        publisher = article.get(\"publisher\", {}).get(\"title\", \"\")\n",
        "        pub_date_str = article.get(\"published date\", \"\")\n",
        "\n",
        "        pub_date = None\n",
        "        try:\n",
        "            pub_date = datetime.strptime(pub_date_str, \"%a, %d %b %Y %H:%M:%S %Z\")\n",
        "        except:\n",
        "            pass\n",
        "\n",
        "        if publisher.lower() not in TRUSTED_SOURCES:\n",
        "            continue\n",
        "        if pub_date < cutoff:\n",
        "            continue\n",
        "\n",
        "        articles.append({\n",
        "            \"title\": title,\n",
        "            \"summary\": summary,\n",
        "            \"publisher\": publisher,\n",
        "            \"publishedAt\": pub_date.isoformat(),\n",
        "            \"url\": article.get(\"url\", \"\")\n",
        "        })\n",
        "\n",
        "        if len(articles) >= max_articles:\n",
        "            break\n",
        "\n",
        "    return articles\n",
        "\n",
        "\n",
        "def _aggregate_news(items: list[dict]) -> str:\n",
        "    parts = []\n",
        "    for i, it in enumerate(items, 1):\n",
        "        title = it.get(\"title\", \"\")\n",
        "        summary = it.get(\"summary\", \"\")\n",
        "        parts.append(f\"[{i}] {title}\\n{summary}\")\n",
        "    return \"\\n\\n---\\n\\n\".join(parts).strip()\n"
      ],
      "metadata": {
        "id": "t55IXjbmpW__"
      },
      "execution_count": 6,
      "outputs": []
    },
    {
      "cell_type": "markdown",
      "source": [
        "LLM Tools"
      ],
      "metadata": {
        "id": "c0ygwN6AKsim"
      }
    },
    {
      "cell_type": "code",
      "source": [
        "# Gemini API wrapper\n",
        "def call_gemini(prompt: str, model: str = \"gemini-2.5-pro\") -> str:\n",
        "    url = f\"https://generativelanguage.googleapis.com/v1beta/models/{model}:generateContent?key={os.getenv('GOOGLE_API_KEY')}\"\n",
        "    headers = {\"Content-Type\": \"application/json\"}\n",
        "    payload = {\"contents\": [{\"parts\": [{\"text\": prompt}]}]}\n",
        "    response = requests.post(url, headers=headers, json=payload)\n",
        "    response.raise_for_status()\n",
        "    data = response.json()\n",
        "    text = data[\"candidates\"][0][\"content\"][\"parts\"][0][\"text\"]\n",
        "\n",
        "    return text\n",
        "\n",
        "# LangChain LLM wrapper\n",
        "class GeminiLLM(LLM):\n",
        "    def _call(self, prompt: str, stop=None) -> str:\n",
        "        return call_gemini(prompt)\n",
        "    @property\n",
        "    def _identifying_params(self): return {\"name\": \"GeminiLLM\"}\n",
        "    @property\n",
        "    def _llm_type(self): return \"custom_gemini\"\n",
        "\n",
        "\n",
        "\n",
        "def analyze_sentiment(text: str) -> str:\n",
        "    return f\"Sentiment: {'positive' if 'strong' in text else 'neutral'}\"\n",
        "\n",
        "tools = [\n",
        "    Tool(name=\"FetchNews\", func=fetch_news, description=\"Fetch recent news for a stock ticker\"),\n",
        "    Tool(name=\"SentimentAnalyzer\", func=analyze_sentiment, description=\"Classify news as positive, neutral, or negative\"),\n",
        "]\n",
        "\n",
        "llm = GeminiLLM()\n",
        "sub_agent = initialize_agent(tools, llm, agent=AgentType.CONVERSATIONAL_REACT_DESCRIPTION, verbose=True, handle_parsing_errors=True)"
      ],
      "metadata": {
        "id": "ajMFj8xsGFjh",
        "colab": {
          "base_uri": "https://localhost:8080/"
        },
        "outputId": "11a84a2a-79a1-4f8a-90ba-4444543209cc"
      },
      "execution_count": 7,
      "outputs": [
        {
          "output_type": "stream",
          "name": "stderr",
          "text": [
            "/tmp/ipython-input-3673690318.py:33: LangChainDeprecationWarning: LangChain agents will continue to be supported, but it is recommended for new use cases to be built with LangGraph. LangGraph offers a more flexible and full-featured framework for building agents, including support for tool-calling, persistence of state, and human-in-the-loop workflows. For details, refer to the `LangGraph documentation <https://langchain-ai.github.io/langgraph/>`_ as well as guides for `Migrating from AgentExecutor <https://python.langchain.com/docs/how_to/migrate_agent/>`_ and LangGraph's `Pre-built ReAct agent <https://langchain-ai.github.io/langgraph/how-tos/create-react-agent/>`_.\n",
            "  sub_agent = initialize_agent(tools, llm, agent=AgentType.CONVERSATIONAL_REACT_DESCRIPTION, verbose=True, handle_parsing_errors=True)\n"
          ]
        }
      ]
    },
    {
      "cell_type": "markdown",
      "source": [
        "Main Agent"
      ],
      "metadata": {
        "id": "d2h7BIFHR3e5"
      }
    },
    {
      "cell_type": "code",
      "source": [
        "class InvestmentResearchAgent:\n",
        "    def __init__(self, ticker: str):\n",
        "        self.ticker = ticker\n",
        "        self.memory = []\n",
        "\n",
        "    def plan_steps(self, context: str = \"\"):\n",
        "        prompt = f\"\"\"\n",
        "        You are a financial analyst. Given the stock ticker: {self.ticker} and context: {context},\n",
        "        return a JSON-structured plan, where each step has:\n",
        "          - step_number\n",
        "          - action\n",
        "          - tool_needed\n",
        "          - description\n",
        "        \"\"\"\n",
        "        raw = call_gemini(prompt)\n",
        "        return safe_json_parse(raw)\n",
        "\n",
        "    def prompt_chain(self, news_text: str):\n",
        "        clean = news_text.strip()\n",
        "        classification = self.route(clean)\n",
        "        facts = call_gemini(f\"Extract key financial metrics from this text:\\n{clean}\")\n",
        "        summary = call_gemini(f\"Summarize in 3 sentences and limit in 200 words:\\n{facts}\")\n",
        "        return {\"classification\": classification, \"summary\": summary}\n",
        "\n",
        "    def route(self, text: str):\n",
        "        doc = nlp(text)\n",
        "        ents = [(ent.text, ent.label_) for ent in doc.ents]\n",
        "\n",
        "        orgs = [ent.text for ent in doc.ents if ent.label_ == \"ORG\"]\n",
        "        persons = [ent.text for ent in doc.ents if ent.label_ == \"PERSON\"]\n",
        "        money = [ent.text for ent in doc.ents if ent.label_ in (\"MONEY\", \"PERCENT\")]\n",
        "        dates = [ent.text for ent in doc.ents if ent.label_ == \"DATE\"]\n",
        "\n",
        "        if orgs and money:\n",
        "            category = \"earnings\"\n",
        "        elif len(orgs) >= 2:\n",
        "            category = \"merger/acquisition\"\n",
        "        elif persons and orgs:\n",
        "            category = \"executive news\"\n",
        "        else:\n",
        "            category = \"general\"\n",
        "\n",
        "        # call gemini for detailed analysis only one time\n",
        "        analysis = call_gemini(f\"Category: {category}\\nNews:\\n{text}\\n\\nProvide a detailed {category} analysis.\")\n",
        "\n",
        "        return {\n",
        "            \"category\": category,\n",
        "            \"entities\": ents,\n",
        "            \"analysis\": analysis\n",
        "        }\n",
        "\n",
        "    def evaluate_and_refine(self, analysis_text: str) -> str:\n",
        "      critique = call_gemini(\n",
        "          \"Critique the following financial analysis for accuracy, clarity, relevance, \"\n",
        "          \"and actionability for investors:\\n\\n\" + analysis_text\n",
        "      )\n",
        "      improved = call_gemini(\n",
        "          f\"Original analysis:\\n{analysis_text}\\n\\nCritique:\\n{critique}\\n\\n\"\n",
        "          \"Rewrite the analysis applying all improvements. Return only the improved analysis.\"\n",
        "      )\n",
        "      return improved\n",
        "\n",
        "    def remember(self, note: str): self.memory.append(note)\n",
        "    def recall(self): return \"\\n\".join(self.memory[-3:]) if self.memory else \"No past memory.\"\n",
        "\n",
        "      # orchestrator\n",
        "    def run(self, context: str = \"\", max_articles: int = 5) -> dict:\n",
        "        print(\"Plan:\", self.plan_steps(context))\n",
        "\n",
        "        # 1) fetch news\n",
        "        items = fetch_news(self.ticker, max_articles=max_articles)\n",
        "\n",
        "        price = get_price_data(self.ticker)\n",
        "        eps_rev = get_eps_revenue(self.ticker)\n",
        "\n",
        "        # 2) aggregate all articles into one text block\n",
        "        combined_text = _aggregate_news(items)\n",
        "\n",
        "        # 3) single-pass analysis on the aggregated text\n",
        "        chained = self.prompt_chain(combined_text)    # {\"classification\": ..., \"summary\": ...}\n",
        "        routed  = self.route(combined_text)           # {\"category\",\"entities\",\"analysis\"}\n",
        "        refined = self.evaluate_and_refine(routed[\"analysis\"])\n",
        "\n",
        "        # 4) one overall sentiment on the combined text\n",
        "        overall_sentiment = analyze_sentiment(combined_text)\n",
        "\n",
        "        # 5) the summary from all news\n",
        "        news_rows = {\n",
        "            \"sentiment\": overall_sentiment,\n",
        "            \"classification\": routed[\"category\"],\n",
        "            \"Summary\": refined,\n",
        "        }\n",
        "\n",
        "        # 6) ask LLM ONCE to fill ONLY earnings based on aggregate\n",
        "        base = {\n",
        "            \"symbol\": self.ticker,\n",
        "            \"price_analysis\": price,\n",
        "            \"news_analysis\": news_rows,\n",
        "            \"earnings_analysis\": {\n",
        "                \"EPS\": eps_rev[\"EPS\"],\n",
        "                \"Revenue\": eps_rev[\"Revenue\"],\n",
        "                \"Guidance\": \"<number here>\",\n",
        "                \"Summary\": \"<text here> - keep limit to 200 words\"\n",
        "            }\n",
        "        }\n",
        "\n",
        "        fill_prompt = f\"\"\"\n",
        "    You are a financial analysis assistant.\n",
        "    Using ONLY the AGGREGATED analysis below, fill the Summary and Guidance fields in earnings_analysis.\n",
        "    Do not change price_analysis, news_analysis, EPS or Revenue.\n",
        "\n",
        "    Aggregated classification: {routed['category']}\n",
        "    Prompt-chain summary: {chained.get('summary','')}\n",
        "    Aggregated refined analysis:\n",
        "    {refined}\n",
        "\n",
        "    JSON:\n",
        "    {json.dumps(base, indent=2)}\n",
        "    \"\"\"\n",
        "        filled = safe_json_parse(call_gemini(fill_prompt))\n",
        "        earnings = filled.get(\"earnings_analysis\", base[\"earnings_analysis\"])\n",
        "\n",
        "        return {\n",
        "            \"symbol\": self.ticker,\n",
        "            \"price_analysis\": price,\n",
        "            \"news_analysis\": news_rows,\n",
        "            \"earnings_analysis\": earnings,\n",
        "        }\n"
      ],
      "metadata": {
        "id": "Ri5GUpa9yIzO"
      },
      "execution_count": 8,
      "outputs": []
    },
    {
      "cell_type": "code",
      "source": [
        "os.environ[\"GOOGLE_API_KEY\"] = getpass(\"Enter your Google API key: \")\n",
        "\n",
        "agent = InvestmentResearchAgent(\"AAPL\")  # MSFT, NVDA, TSLA, etc.\n",
        "result = agent.run()\n",
        "print(json.dumps(result, indent=2))"
      ],
      "metadata": {
        "colab": {
          "base_uri": "https://localhost:8080/"
        },
        "id": "EfzqLRbYyQDk",
        "outputId": "bf84a65b-2699-4196-bb01-58fd2876a099"
      },
      "execution_count": 9,
      "outputs": [
        {
          "output_type": "stream",
          "name": "stdout",
          "text": [
            "Enter your Google API key: ··········\n",
            "Plan: [{'step_number': 1, 'action': 'Gather Company Profile and Market Data', 'tool_needed': 'Financial Data Provider (e.g., Yahoo Finance, Bloomberg Terminal, Refinitiv Eikon)', 'description': 'Retrieve essential company information for AAPL, including its business description, industry classification, key executives, and current market data such as stock price, market capitalization, trading volume, and dividend yield.'}, {'step_number': 2, 'action': 'Analyze Historical Financial Statements', 'tool_needed': 'SEC Filings (EDGAR Database: 10-K, 10-Q)', 'description': \"Download and review the last 3-5 years of AAPL's annual (10-K) and quarterly (10-Q) reports. Extract key data from the Income Statement, Balance Sheet, and Cash Flow Statement to analyze trends in revenue, net income, assets, liabilities, and cash flows from operations.\"}, {'step_number': 3, 'action': 'Perform Financial Ratio Analysis', 'tool_needed': 'Financial Modeling Software (e.g., Microsoft Excel)', 'description': 'Using data from Step 2, calculate and analyze key financial ratios. This includes profitability (e.g., Gross Margin, Net Profit Margin, ROE), liquidity (e.g., Current Ratio), solvency (e.g., Debt-to-Equity), and efficiency (e.g., Asset Turnover) ratios. Compare these ratios against historical performance and industry benchmarks.'}, {'step_number': 4, 'action': 'Conduct Qualitative and Competitive Landscape Analysis', 'tool_needed': 'Industry Reports (e.g., Gartner, IDC), Company Investor Relations Website, SWOT Analysis Framework', 'description': \"Evaluate AAPL's business model, competitive advantages (moat), management effectiveness, and brand strength. Identify key competitors (e.g., Samsung, Google, Microsoft) and perform a SWOT (Strengths, Weaknesses, Opportunities, Threats) analysis to understand the company's strategic positioning.\"}, {'step_number': 5, 'action': 'Evaluate Market and Industry Trends', 'tool_needed': 'Market Research Reports, Tech Journals, Macroeconomic Data Sources (e.g., FRED)', 'description': \"Assess the broader consumer electronics and technology services industries. Analyze key trends such as AI integration, supply chain dynamics, regulatory changes, and consumer spending habits. Evaluate macroeconomic factors like interest rates and inflation that could impact AAPL's performance.\"}, {'step_number': 6, 'action': 'Perform Intrinsic Valuation', 'tool_needed': 'Financial Modeling Software (e.g., Microsoft Excel)', 'description': \"Build a Discounted Cash Flow (DCF) model to estimate the intrinsic value of AAPL based on future free cash flow projections. Additionally, perform a Comparable Company Analysis (Comps) by comparing AAPL's valuation multiples (P/E, EV/EBITDA, P/S) with its industry peers to assess relative valuation.\"}, {'step_number': 7, 'action': 'Analyze Technical Indicators and Chart Patterns', 'tool_needed': 'Charting Platform (e.g., TradingView, StockCharts)', 'description': \"Review AAPL's stock chart to identify price trends, support/resistance levels, and key patterns. Analyze technical indicators such as Moving Averages (50-day, 200-day), Relative Strength Index (RSI), and MACD to gauge market sentiment and momentum.\"}, {'step_number': 8, 'action': 'Review Analyst Ratings and News Sentiment', 'tool_needed': 'Analyst Rating Aggregators (e.g., TipRanks, FactSet), Financial News Outlets (e.g., Reuters, Wall Street Journal)', 'description': 'Aggregate consensus estimates from Wall Street analysts, including price targets and buy/sell/hold ratings. Scan recent news, press releases, and earnings call transcripts to gauge current market sentiment and identify any recent catalysts or concerns.'}, {'step_number': 9, 'action': 'Synthesize Findings and Formulate Recommendation', 'tool_needed': 'Investment Thesis Report Template', 'description': 'Consolidate all findings from the fundamental, qualitative, and quantitative analysis. Formulate a comprehensive investment thesis, outlining the rationale for a buy, hold, or sell recommendation, including a target price range and key risks to the thesis.'}]\n",
            "{\n",
            "  \"symbol\": \"AAPL\",\n",
            "  \"price_analysis\": {\n",
            "    \"current_price\": \"257.40\",\n",
            "    \"30d_moving_avg\": \"240.31\",\n",
            "    \"trend\": \"up\"\n",
            "  },\n",
            "  \"news_analysis\": {\n",
            "    \"sentiment\": \"Sentiment: neutral\",\n",
            "    \"classification\": \"earnings\",\n",
            "    \"Summary\": \"Based on the provided news headlines and applying the principles of a rigorous financial critique, here is an improved, data-driven earnings analysis for Apple (AAPL).\\n\\n### **Apple (AAPL): Fundamental Analysis and Investment Thesis**\\n\\n### Investment Thesis / Executive Summary\\n\\nApple's stock is trading near all-time highs, driven by a powerful market narrative centered on an anticipated AI-fueled iPhone \\\"supercycle\\\" and continued high-margin Services growth. While the bullish sentiment is strong, our analysis indicates that Apple's current valuation at over 30x forward earnings has already priced in a significant acceleration in growth. Current fundamentals, however, show low single-digit revenue growth and a reliance on share buybacks to boost EPS.\\n\\nThis creates a significant \\\"show me\\\" situation. The risk/reward profile is balanced at current levels. **We assign a 'Neutral' / 'Hold' rating to AAPL, recommending that investors await concrete evidence of AI monetization and a re-acceleration of iPhone growth in upcoming earnings reports before initiating new positions.** A failure to deliver on these heightened expectations could lead to a valuation-driven correction.\\n\\n---\\n\\n### 1. Current Financial Snapshot\\n\\nTo ground our analysis, it is essential to move beyond sentiment and examine the underlying financial data.\\n\\n| Metric | Current Value (approx.) | Context & Implication |\\n| :--- | :--- | :--- |\\n| **Share Price** | ~$215 | Near all-time highs, reflecting peak optimism. |\\n| **Market Cap** | ~$3.3 Trillion | The world's largest public company. |\\n| **P/E Ratio (TTM)** | ~33.0x | Significantly above its 5-year average of ~25x, indicating a premium valuation. |\\n| **Forward P/E Ratio** | ~31.0x | Investors are paying 31 times the *expected* earnings for the next year. |\\n| **Revenue Growth (YoY)** | ~ -1% to 2% (recent quarters) | Stagnant top-line growth is a key concern and contrasts sharply with the high valuation. |\\n| **EPS Growth (YoY)** | ~2% to 5% (recent quarters) | Modest growth, largely supported by aggressive share repurchases, not just operational gains. |\\n| **Gross Margin** | ~46.5% | A major strength. The shift towards high-margin Services continues to support profitability. |\\n| **Services Revenue Growth** | ~14% (YoY) | The bright spot. This high-margin segment remains the primary engine of growth and profitability. |\\n\\n---\\n\\n### 2. The Bull Case: Justifying the Premium Valuation\\n\\nThe market's bullishness, reflected in analyst price targets of $275 (TD Cowen) and speculative targets of $310, is predicated on two key catalysts.\\n\\n*   **AI-Driven iPhone Supercycle:** The core bull thesis is that the integration of \\\"Apple Intelligence\\\" into iOS 18 will compel a massive wave of existing iPhone users to upgrade. This thesis assumes AI features will be exclusive to newer models, creating a powerful replacement cycle that re-ignites top-line growth in 2025 and beyond.\\n*   **Continued Services Expansion:** With an installed base of over 2.2 billion active devices, the high-margin Services division (App Store, iCloud, Music, Ads) is expected to continue its double-digit growth trajectory. This not only boosts revenue but also enhances Apple's overall gross margin, leading to higher-quality earnings.\\n\\n### 3. The Bear Case: Valuation and Execution Risk\\n\\nThe primary risk is that reality may not meet the market's lofty expectations.\\n\\n*   **Stretched Valuation:** At a ~33x TTM P/E ratio, Apple is priced for perfection. This valuation is difficult to justify with the company's recent low single-digit growth. Microsoft (MSFT), with its robust AI-driven cloud growth, trades at a similar multiple but has a much higher top-line growth rate (~17% YoY).\\n*   **\\\"Show-Me\\\" AI Story:** It is not yet clear how Apple will directly monetize AI. The bull case relies on AI driving hardware sales, but it's uncertain if the initial features will be compelling enough to trigger the massive upgrade cycle investors are betting on.\\n*   **Hardware Saturation:** Outside of an AI catalyst, the smartphone market is mature. China sales have been a headwind, and growth in other product categories like Mac and iPad remains cyclical and tepid.\\n\\n---\\n\\n### 4. Quantitative Scenario Analysis: Can Apple Hit $275-$310?\\n\\nTo understand what is priced into the stock, we can model the earnings per share (EPS) required to justify these bullish price targets. Assuming the market continues to award Apple a premium P/E multiple of 30x (above its historical average but in line with current sentiment):\\n\\n*   **To Justify a $275 Price Target:**\\n    *   Required EPS = $275 / 30x P/E = **$9.17**\\n    *   This represents a **31% increase** from the current consensus forward EPS of ~$7.00. Achieving this by the end of 2025 would require a significant acceleration to ~20% annualized EPS growth, far exceeding its recent performance.\\n\\n*   **To Justify a $310 Price Target:**\\n    *   Required EPS = $310 / 30x P/E = **$10.33**\\n    *   This requires a **48% increase** from current forward EPS. This scenario demands a flawless execution of the AI supercycle, strong margin expansion, and continued market optimism.\\n\\nThese calculations demonstrate that current bull targets are not based on an extension of the current trend but on a fundamental step-change in Apple's growth trajectory.\\n\\n### Conclusion & Recommendation\\n\\nThe collection of headlines accurately captures the market's forward-looking optimism for Apple. However, an objective financial analysis reveals a disconnect between the current price and recent fundamental performance. The stock is fully valued, and its price already reflects a best-case scenario for its AI initiatives.\\n\\n**Recommendation: Neutral / Hold.**\\nInvestors are paying today for the profits of tomorrow. While the AI strategy is promising, the execution risk is high, and the valuation leaves no room for error. We advise waiting for at least two quarters of financial results post-iOS 18 launch to confirm that \\\"Apple Intelligence\\\" is translating into the accelerated revenue and earnings growth that the current share price demands.\"\n",
            "  },\n",
            "  \"earnings_analysis\": {\n",
            "    \"EPS\": \"1.57 USD/share\",\n",
            "    \"Revenue\": \"$94,036,000,000 (USD)\",\n",
            "    \"Guidance\": \"Neutral / Hold\",\n",
            "    \"Summary\": \"Apple's stock is near all-time highs with a premium valuation (over 30x forward P/E) based on expectations of an AI-driven iPhone 'supercycle'. However, current fundamentals show stagnant revenue growth and modest EPS growth, largely supported by share buybacks. This creates a disconnect where the stock's price has already factored in a significant acceleration in growth that has yet to materialize, leading to a balanced risk/reward profile.\"\n",
            "  }\n",
            "}\n"
          ]
        }
      ]
    },
    {
      "cell_type": "code",
      "source": [
        "stock = yf.Ticker(\"AAPL\")\n",
        "hist = stock.history(period=\"30d\") # Get last 30 days of price data\n",
        "\n",
        "# Display output report\n",
        "display_report(result, hist)"
      ],
      "metadata": {
        "id": "BBTTY1-yHqrw",
        "colab": {
          "base_uri": "https://localhost:8080/",
          "height": 1000
        },
        "outputId": "2770c2d6-9d88-4c18-8bde-c864ef085212"
      },
      "execution_count": 15,
      "outputs": [
        {
          "output_type": "stream",
          "name": "stdout",
          "text": [
            "============================================================\n",
            "Financial Report: AAPL\n",
            "============================================================\n",
            "\n",
            " Price Analysis\n",
            "   Current Price      : 257.40\n",
            "   30-Day Moving Avg  : 240.31\n",
            "   Trend              : up\n",
            "\n",
            " News Analysis\n",
            "   Sentiment     : Sentiment: neutral\n",
            "   Classification: earnings\n",
            "   Summary       : Based on the provided news headlines and applying the principles of a rigorous financial critique, here is an improved, data-driven earnings analysis for Apple (AAPL).\n",
            "\n",
            "### **Apple (AAPL): Fundamental Analysis and Investment Thesis**\n",
            "\n",
            "### Investment Thesis / Executive Summary\n",
            "\n",
            "Apple's stock is trading near all-time highs, driven by a powerful market narrative centered on an anticipated AI-fueled iPhone \"supercycle\" and continued high-margin Services growth. While the bullish sentiment is strong, our analysis indicates that Apple's current valuation at over 30x forward earnings has already priced in a significant acceleration in growth. Current fundamentals, however, show low single-digit revenue growth and a reliance on share buybacks to boost EPS.\n",
            "\n",
            "This creates a significant \"show me\" situation. The risk/reward profile is balanced at current levels. **We assign a 'Neutral' / 'Hold' rating to AAPL, recommending that investors await concrete evidence of AI monetization and a re-acceleration of iPhone growth in upcoming earnings reports before initiating new positions.** A failure to deliver on these heightened expectations could lead to a valuation-driven correction.\n",
            "\n",
            "---\n",
            "\n",
            "### 1. Current Financial Snapshot\n",
            "\n",
            "To ground our analysis, it is essential to move beyond sentiment and examine the underlying financial data.\n",
            "\n",
            "| Metric | Current Value (approx.) | Context & Implication |\n",
            "| :--- | :--- | :--- |\n",
            "| **Share Price** | ~$215 | Near all-time highs, reflecting peak optimism. |\n",
            "| **Market Cap** | ~$3.3 Trillion | The world's largest public company. |\n",
            "| **P/E Ratio (TTM)** | ~33.0x | Significantly above its 5-year average of ~25x, indicating a premium valuation. |\n",
            "| **Forward P/E Ratio** | ~31.0x | Investors are paying 31 times the *expected* earnings for the next year. |\n",
            "| **Revenue Growth (YoY)** | ~ -1% to 2% (recent quarters) | Stagnant top-line growth is a key concern and contrasts sharply with the high valuation. |\n",
            "| **EPS Growth (YoY)** | ~2% to 5% (recent quarters) | Modest growth, largely supported by aggressive share repurchases, not just operational gains. |\n",
            "| **Gross Margin** | ~46.5% | A major strength. The shift towards high-margin Services continues to support profitability. |\n",
            "| **Services Revenue Growth** | ~14% (YoY) | The bright spot. This high-margin segment remains the primary engine of growth and profitability. |\n",
            "\n",
            "---\n",
            "\n",
            "### 2. The Bull Case: Justifying the Premium Valuation\n",
            "\n",
            "The market's bullishness, reflected in analyst price targets of $275 (TD Cowen) and speculative targets of $310, is predicated on two key catalysts.\n",
            "\n",
            "*   **AI-Driven iPhone Supercycle:** The core bull thesis is that the integration of \"Apple Intelligence\" into iOS 18 will compel a massive wave of existing iPhone users to upgrade. This thesis assumes AI features will be exclusive to newer models, creating a powerful replacement cycle that re-ignites top-line growth in 2025 and beyond.\n",
            "*   **Continued Services Expansion:** With an installed base of over 2.2 billion active devices, the high-margin Services division (App Store, iCloud, Music, Ads) is expected to continue its double-digit growth trajectory. This not only boosts revenue but also enhances Apple's overall gross margin, leading to higher-quality earnings.\n",
            "\n",
            "### 3. The Bear Case: Valuation and Execution Risk\n",
            "\n",
            "The primary risk is that reality may not meet the market's lofty expectations.\n",
            "\n",
            "*   **Stretched Valuation:** At a ~33x TTM P/E ratio, Apple is priced for perfection. This valuation is difficult to justify with the company's recent low single-digit growth. Microsoft (MSFT), with its robust AI-driven cloud growth, trades at a similar multiple but has a much higher top-line growth rate (~17% YoY).\n",
            "*   **\"Show-Me\" AI Story:** It is not yet clear how Apple will directly monetize AI. The bull case relies on AI driving hardware sales, but it's uncertain if the initial features will be compelling enough to trigger the massive upgrade cycle investors are betting on.\n",
            "*   **Hardware Saturation:** Outside of an AI catalyst, the smartphone market is mature. China sales have been a headwind, and growth in other product categories like Mac and iPad remains cyclical and tepid.\n",
            "\n",
            "---\n",
            "\n",
            "### 4. Quantitative Scenario Analysis: Can Apple Hit $275-$310?\n",
            "\n",
            "To understand what is priced into the stock, we can model the earnings per share (EPS) required to justify these bullish price targets. Assuming the market continues to award Apple a premium P/E multiple of 30x (above its historical average but in line with current sentiment):\n",
            "\n",
            "*   **To Justify a $275 Price Target:**\n",
            "    *   Required EPS = $275 / 30x P/E = **$9.17**\n",
            "    *   This represents a **31% increase** from the current consensus forward EPS of ~$7.00. Achieving this by the end of 2025 would require a significant acceleration to ~20% annualized EPS growth, far exceeding its recent performance.\n",
            "\n",
            "*   **To Justify a $310 Price Target:**\n",
            "    *   Required EPS = $310 / 30x P/E = **$10.33**\n",
            "    *   This requires a **48% increase** from current forward EPS. This scenario demands a flawless execution of the AI supercycle, strong margin expansion, and continued market optimism.\n",
            "\n",
            "These calculations demonstrate that current bull targets are not based on an extension of the current trend but on a fundamental step-change in Apple's growth trajectory.\n",
            "\n",
            "### Conclusion & Recommendation\n",
            "\n",
            "The collection of headlines accurately captures the market's forward-looking optimism for Apple. However, an objective financial analysis reveals a disconnect between the current price and recent fundamental performance. The stock is fully valued, and its price already reflects a best-case scenario for its AI initiatives.\n",
            "\n",
            "**Recommendation: Neutral / Hold.**\n",
            "Investors are paying today for the profits of tomorrow. While the AI strategy is promising, the execution risk is high, and the valuation leaves no room for error. We advise waiting for at least two quarters of financial results post-iOS 18 launch to confirm that \"Apple Intelligence\" is translating into the accelerated revenue and earnings growth that the current share price demands.\n",
            "\n",
            " Earnings Analysis\n",
            "   EPS       : 1.57 USD/share\n",
            "   Revenue   : $94,036,000,000 (USD)\n",
            "   Guidance  : Neutral / Hold\n",
            "   Summary   : Apple's stock is near all-time highs with a premium valuation (over 30x forward P/E) based on expectations of an AI-driven iPhone 'supercycle'. However, current fundamentals show stagnant revenue growth and modest EPS growth, largely supported by share buybacks. This creates a disconnect where the stock's price has already factored in a significant acceleration in growth that has yet to materialize, leading to a balanced risk/reward profile.\n",
            "\n",
            "============================================================\n"
          ]
        },
        {
          "output_type": "display_data",
          "data": {
            "text/plain": [
              "<Figure size 1000x500 with 1 Axes>"
            ],
            "image/png": "[encoded data removed]"
          },
          "metadata": {}
        },
        {
          "output_type": "display_data",
          "data": {
            "text/plain": [
              "<Figure size 600x400 with 1 Axes>"
            ],
            "image/png": "[encoded data removed]"
          },
          "metadata": {}
        }
      ]
    }
  ]
}