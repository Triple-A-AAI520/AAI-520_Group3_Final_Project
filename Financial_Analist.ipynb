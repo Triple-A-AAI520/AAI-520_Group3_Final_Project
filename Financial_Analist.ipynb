{
  "nbformat": 4,
  "nbformat_minor": 0,
  "metadata": {
    "colab": {
      "provenance": [],
      "toc_visible": true
    },
    "kernelspec": {
      "name": "python3",
      "display_name": "Python 3"
    },
    "language_info": {
      "name": "python"
    }
  },
  "cells": [
    {
      "cell_type": "markdown",
      "metadata": {
        "id": "237d6770"
      },
      "source": [
        "**University of San Diego**\n",
        "AAI-520: Natural Language Processing and GenAI\n",
        "\n",
        "---\n",
        "\n",
        "**Professor**: Mirsardar Esmaeili\n",
        "\n",
        "**Section**: 3\n",
        "\n",
        "**Group**: 6\n",
        "\n",
        "**Contributors**:\n",
        "\n",
        "- Quang Tran\n",
        "- Alyona Kosobokova\n",
        "- Ashley Moore\n",
        "\n",
        " October, 2025\n",
        "\n",
        "---"
      ]
    },
    {
      "cell_type": "markdown",
      "source": [
        "# **Setup & Imports**\n",
        "\n",
        "- Import core libs (e.g., os, json, time, datetime, pandas, requests).\n",
        "\n",
        "- Import analysis/plot libs (e.g., matplotlib), and LLM/agents tooling (e.g., LangChain / Gemini client).\n",
        "\n",
        "- Set global display options and warnings."
      ],
      "metadata": {
        "id": "J_iAW_Bf7LAH"
      }
    },
    {
      "cell_type": "code",
      "execution_count": 1,
      "metadata": {
        "id": "dHK40eelMPAm",
        "colab": {
          "base_uri": "https://localhost:8080/"
        },
        "outputId": "6f8d0bba-75a6-4e6c-b2d2-3105b6282be8"
      },
      "outputs": [
        {
          "output_type": "stream",
          "name": "stdout",
          "text": [
            "Collecting feedparser\n",
            "  Downloading feedparser-6.0.12-py3-none-any.whl.metadata (2.7 kB)\n",
            "Collecting sgmllib3k (from feedparser)\n",
            "  Downloading sgmllib3k-1.0.0.tar.gz (5.8 kB)\n",
            "  Preparing metadata (setup.py) ... \u001b[?25l\u001b[?25hdone\n",
            "Downloading feedparser-6.0.12-py3-none-any.whl (81 kB)\n",
            "\u001b[2K   \u001b[90m━━━━━━━━━━━━━━━━━━━━━━━━━━━━━━━━━━━━━━━━\u001b[0m \u001b[32m81.5/81.5 kB\u001b[0m \u001b[31m2.2 MB/s\u001b[0m eta \u001b[36m0:00:00\u001b[0m\n",
            "\u001b[?25hBuilding wheels for collected packages: sgmllib3k\n",
            "  Building wheel for sgmllib3k (setup.py) ... \u001b[?25l\u001b[?25hdone\n",
            "  Created wheel for sgmllib3k: filename=sgmllib3k-1.0.0-py3-none-any.whl size=6046 sha256=1add11aeb3eb49a06206e4630b47b3265f978bc81144c57d0c8f8dd56c66cf0f\n",
            "  Stored in directory: /root/.cache/pip/wheels/03/f5/1a/23761066dac1d0e8e683e5fdb27e12de53209d05a4a37e6246\n",
            "Successfully built sgmllib3k\n",
            "Installing collected packages: sgmllib3k, feedparser\n",
            "Successfully installed feedparser-6.0.12 sgmllib3k-1.0.0\n",
            "Collecting newspaper3k\n",
            "  Downloading newspaper3k-0.2.8-py3-none-any.whl.metadata (11 kB)\n",
            "Requirement already satisfied: beautifulsoup4>=4.4.1 in /usr/local/lib/python3.12/dist-packages (from newspaper3k) (4.13.5)\n",
            "Requirement already satisfied: Pillow>=3.3.0 in /usr/local/lib/python3.12/dist-packages (from newspaper3k) (11.3.0)\n",
            "Requirement already satisfied: PyYAML>=3.11 in /usr/local/lib/python3.12/dist-packages (from newspaper3k) (6.0.3)\n",
            "Collecting cssselect>=0.9.2 (from newspaper3k)\n",
            "  Downloading cssselect-1.3.0-py3-none-any.whl.metadata (2.6 kB)\n",
            "Requirement already satisfied: lxml>=3.6.0 in /usr/local/lib/python3.12/dist-packages (from newspaper3k) (5.4.0)\n",
            "Requirement already satisfied: nltk>=3.2.1 in /usr/local/lib/python3.12/dist-packages (from newspaper3k) (3.9.1)\n",
            "Requirement already satisfied: requests>=2.10.0 in /usr/local/lib/python3.12/dist-packages (from newspaper3k) (2.32.4)\n",
            "Requirement already satisfied: feedparser>=5.2.1 in /usr/local/lib/python3.12/dist-packages (from newspaper3k) (6.0.12)\n",
            "Collecting tldextract>=2.0.1 (from newspaper3k)\n",
            "  Downloading tldextract-5.3.0-py3-none-any.whl.metadata (11 kB)\n",
            "Collecting feedfinder2>=0.0.4 (from newspaper3k)\n",
            "  Downloading feedfinder2-0.0.4.tar.gz (3.3 kB)\n",
            "  Preparing metadata (setup.py) ... \u001b[?25l\u001b[?25hdone\n",
            "Collecting jieba3k>=0.35.1 (from newspaper3k)\n",
            "  Downloading jieba3k-0.35.1.zip (7.4 MB)\n",
            "\u001b[2K     \u001b[90m━━━━━━━━━━━━━━━━━━━━━━━━━━━━━━━━━━━━━━━━\u001b[0m \u001b[32m7.4/7.4 MB\u001b[0m \u001b[31m65.3 MB/s\u001b[0m eta \u001b[36m0:00:00\u001b[0m\n",
            "\u001b[?25h  Preparing metadata (setup.py) ... \u001b[?25l\u001b[?25hdone\n",
            "Requirement already satisfied: python-dateutil>=2.5.3 in /usr/local/lib/python3.12/dist-packages (from newspaper3k) (2.9.0.post0)\n",
            "Collecting tinysegmenter==0.3 (from newspaper3k)\n",
            "  Downloading tinysegmenter-0.3.tar.gz (16 kB)\n",
            "  Preparing metadata (setup.py) ... \u001b[?25l\u001b[?25hdone\n",
            "Requirement already satisfied: soupsieve>1.2 in /usr/local/lib/python3.12/dist-packages (from beautifulsoup4>=4.4.1->newspaper3k) (2.8)\n",
            "Requirement already satisfied: typing-extensions>=4.0.0 in /usr/local/lib/python3.12/dist-packages (from beautifulsoup4>=4.4.1->newspaper3k) (4.15.0)\n",
            "Requirement already satisfied: six in /usr/local/lib/python3.12/dist-packages (from feedfinder2>=0.0.4->newspaper3k) (1.17.0)\n",
            "Requirement already satisfied: sgmllib3k in /usr/local/lib/python3.12/dist-packages (from feedparser>=5.2.1->newspaper3k) (1.0.0)\n",
            "Requirement already satisfied: click in /usr/local/lib/python3.12/dist-packages (from nltk>=3.2.1->newspaper3k) (8.3.0)\n",
            "Requirement already satisfied: joblib in /usr/local/lib/python3.12/dist-packages (from nltk>=3.2.1->newspaper3k) (1.5.2)\n",
            "Requirement already satisfied: regex>=2021.8.3 in /usr/local/lib/python3.12/dist-packages (from nltk>=3.2.1->newspaper3k) (2024.11.6)\n",
            "Requirement already satisfied: tqdm in /usr/local/lib/python3.12/dist-packages (from nltk>=3.2.1->newspaper3k) (4.67.1)\n",
            "Requirement already satisfied: charset_normalizer<4,>=2 in /usr/local/lib/python3.12/dist-packages (from requests>=2.10.0->newspaper3k) (3.4.3)\n",
            "Requirement already satisfied: idna<4,>=2.5 in /usr/local/lib/python3.12/dist-packages (from requests>=2.10.0->newspaper3k) (3.10)\n",
            "Requirement already satisfied: urllib3<3,>=1.21.1 in /usr/local/lib/python3.12/dist-packages (from requests>=2.10.0->newspaper3k) (2.5.0)\n",
            "Requirement already satisfied: certifi>=2017.4.17 in /usr/local/lib/python3.12/dist-packages (from requests>=2.10.0->newspaper3k) (2025.10.5)\n",
            "Collecting requests-file>=1.4 (from tldextract>=2.0.1->newspaper3k)\n",
            "  Downloading requests_file-2.1.0-py2.py3-none-any.whl.metadata (1.7 kB)\n",
            "Requirement already satisfied: filelock>=3.0.8 in /usr/local/lib/python3.12/dist-packages (from tldextract>=2.0.1->newspaper3k) (3.20.0)\n",
            "Downloading newspaper3k-0.2.8-py3-none-any.whl (211 kB)\n",
            "\u001b[2K   \u001b[90m━━━━━━━━━━━━━━━━━━━━━━━━━━━━━━━━━━━━━━━━\u001b[0m \u001b[32m211.1/211.1 kB\u001b[0m \u001b[31m14.3 MB/s\u001b[0m eta \u001b[36m0:00:00\u001b[0m\n",
            "\u001b[?25hDownloading cssselect-1.3.0-py3-none-any.whl (18 kB)\n",
            "Downloading tldextract-5.3.0-py3-none-any.whl (107 kB)\n",
            "\u001b[2K   \u001b[90m━━━━━━━━━━━━━━━━━━━━━━━━━━━━━━━━━━━━━━━━\u001b[0m \u001b[32m107.4/107.4 kB\u001b[0m \u001b[31m6.5 MB/s\u001b[0m eta \u001b[36m0:00:00\u001b[0m\n",
            "\u001b[?25hDownloading requests_file-2.1.0-py2.py3-none-any.whl (4.2 kB)\n",
            "Building wheels for collected packages: tinysegmenter, feedfinder2, jieba3k\n",
            "  Building wheel for tinysegmenter (setup.py) ... \u001b[?25l\u001b[?25hdone\n",
            "  Created wheel for tinysegmenter: filename=tinysegmenter-0.3-py3-none-any.whl size=13540 sha256=12916ec4d9e7e666870541c32e7834cace3fc53ab88aad1ed9a3ceb88bad5380\n",
            "  Stored in directory: /root/.cache/pip/wheels/a5/91/9f/00d66475960891a64867914273fcaf78df6cb04d905b104a2a\n",
            "  Building wheel for feedfinder2 (setup.py) ... \u001b[?25l\u001b[?25hdone\n",
            "  Created wheel for feedfinder2: filename=feedfinder2-0.0.4-py3-none-any.whl size=3341 sha256=1f627417340f67ad56ac0ff4f025a75b1244c16d7003e795db175edc5ab1e162\n",
            "  Stored in directory: /root/.cache/pip/wheels/9f/9f/fb/364871d7426d3cdd4d293dcf7e53d97f160c508b2ccf00cc79\n",
            "  Building wheel for jieba3k (setup.py) ... \u001b[?25l\u001b[?25hdone\n",
            "  Created wheel for jieba3k: filename=jieba3k-0.35.1-py3-none-any.whl size=7398380 sha256=c873e42ba3e4b3b4c583692c7d08b7d3dd0dce70dbcaa532ccea4b70292369e9\n",
            "  Stored in directory: /root/.cache/pip/wheels/26/72/f7/fff392a8d4ea988dea4ccf9788599d09462a7f5e51e04f8a92\n",
            "Successfully built tinysegmenter feedfinder2 jieba3k\n",
            "Installing collected packages: tinysegmenter, jieba3k, cssselect, requests-file, feedfinder2, tldextract, newspaper3k\n",
            "Successfully installed cssselect-1.3.0 feedfinder2-0.0.4 jieba3k-0.35.1 newspaper3k-0.2.8 requests-file-2.1.0 tinysegmenter-0.3 tldextract-5.3.0\n",
            "Collecting gnews\n",
            "  Downloading gnews-0.4.2-py3-none-any.whl.metadata (19 kB)\n",
            "Requirement already satisfied: feedparser~=6.0.2 in /usr/local/lib/python3.12/dist-packages (from gnews) (6.0.12)\n",
            "Requirement already satisfied: beautifulsoup4<5,>=4.9.3 in /usr/local/lib/python3.12/dist-packages (from gnews) (4.13.5)\n",
            "Collecting dnspython (from gnews)\n",
            "  Downloading dnspython-2.8.0-py3-none-any.whl.metadata (5.7 kB)\n",
            "Requirement already satisfied: requests in /usr/local/lib/python3.12/dist-packages (from gnews) (2.32.4)\n",
            "Requirement already satisfied: soupsieve>1.2 in /usr/local/lib/python3.12/dist-packages (from beautifulsoup4<5,>=4.9.3->gnews) (2.8)\n",
            "Requirement already satisfied: typing-extensions>=4.0.0 in /usr/local/lib/python3.12/dist-packages (from beautifulsoup4<5,>=4.9.3->gnews) (4.15.0)\n",
            "Requirement already satisfied: sgmllib3k in /usr/local/lib/python3.12/dist-packages (from feedparser~=6.0.2->gnews) (1.0.0)\n",
            "Requirement already satisfied: charset_normalizer<4,>=2 in /usr/local/lib/python3.12/dist-packages (from requests->gnews) (3.4.3)\n",
            "Requirement already satisfied: idna<4,>=2.5 in /usr/local/lib/python3.12/dist-packages (from requests->gnews) (3.10)\n",
            "Requirement already satisfied: urllib3<3,>=1.21.1 in /usr/local/lib/python3.12/dist-packages (from requests->gnews) (2.5.0)\n",
            "Requirement already satisfied: certifi>=2017.4.17 in /usr/local/lib/python3.12/dist-packages (from requests->gnews) (2025.10.5)\n",
            "Downloading gnews-0.4.2-py3-none-any.whl (18 kB)\n",
            "Downloading dnspython-2.8.0-py3-none-any.whl (331 kB)\n",
            "\u001b[2K   \u001b[90m━━━━━━━━━━━━━━━━━━━━━━━━━━━━━━━━━━━━━━━━\u001b[0m \u001b[32m331.1/331.1 kB\u001b[0m \u001b[31m10.4 MB/s\u001b[0m eta \u001b[36m0:00:00\u001b[0m\n",
            "\u001b[?25hInstalling collected packages: dnspython, gnews\n",
            "Successfully installed dnspython-2.8.0 gnews-0.4.2\n",
            "Collecting lxml_html_clean\n",
            "  Downloading lxml_html_clean-0.4.3-py3-none-any.whl.metadata (2.3 kB)\n",
            "Requirement already satisfied: lxml in /usr/local/lib/python3.12/dist-packages (from lxml_html_clean) (5.4.0)\n",
            "Downloading lxml_html_clean-0.4.3-py3-none-any.whl (14 kB)\n",
            "Installing collected packages: lxml_html_clean\n",
            "Successfully installed lxml_html_clean-0.4.3\n",
            "Collecting streamlit\n",
            "  Downloading streamlit-1.50.0-py3-none-any.whl.metadata (9.5 kB)\n",
            "Requirement already satisfied: altair!=5.4.0,!=5.4.1,<6,>=4.0 in /usr/local/lib/python3.12/dist-packages (from streamlit) (5.5.0)\n",
            "Requirement already satisfied: blinker<2,>=1.5.0 in /usr/local/lib/python3.12/dist-packages (from streamlit) (1.9.0)\n",
            "Requirement already satisfied: cachetools<7,>=4.0 in /usr/local/lib/python3.12/dist-packages (from streamlit) (5.5.2)\n",
            "Requirement already satisfied: click<9,>=7.0 in /usr/local/lib/python3.12/dist-packages (from streamlit) (8.3.0)\n",
            "Requirement already satisfied: numpy<3,>=1.23 in /usr/local/lib/python3.12/dist-packages (from streamlit) (2.0.2)\n",
            "Requirement already satisfied: packaging<26,>=20 in /usr/local/lib/python3.12/dist-packages (from streamlit) (25.0)\n",
            "Requirement already satisfied: pandas<3,>=1.4.0 in /usr/local/lib/python3.12/dist-packages (from streamlit) (2.2.2)\n",
            "Requirement already satisfied: pillow<12,>=7.1.0 in /usr/local/lib/python3.12/dist-packages (from streamlit) (11.3.0)\n",
            "Requirement already satisfied: protobuf<7,>=3.20 in /usr/local/lib/python3.12/dist-packages (from streamlit) (5.29.5)\n",
            "Requirement already satisfied: pyarrow>=7.0 in /usr/local/lib/python3.12/dist-packages (from streamlit) (18.1.0)\n",
            "Requirement already satisfied: requests<3,>=2.27 in /usr/local/lib/python3.12/dist-packages (from streamlit) (2.32.4)\n",
            "Requirement already satisfied: tenacity<10,>=8.1.0 in /usr/local/lib/python3.12/dist-packages (from streamlit) (8.5.0)\n",
            "Requirement already satisfied: toml<2,>=0.10.1 in /usr/local/lib/python3.12/dist-packages (from streamlit) (0.10.2)\n",
            "Requirement already satisfied: typing-extensions<5,>=4.4.0 in /usr/local/lib/python3.12/dist-packages (from streamlit) (4.15.0)\n",
            "Requirement already satisfied: watchdog<7,>=2.1.5 in /usr/local/lib/python3.12/dist-packages (from streamlit) (6.0.0)\n",
            "Requirement already satisfied: gitpython!=3.1.19,<4,>=3.0.7 in /usr/local/lib/python3.12/dist-packages (from streamlit) (3.1.45)\n",
            "Collecting pydeck<1,>=0.8.0b4 (from streamlit)\n",
            "  Downloading pydeck-0.9.1-py2.py3-none-any.whl.metadata (4.1 kB)\n",
            "Requirement already satisfied: tornado!=6.5.0,<7,>=6.0.3 in /usr/local/lib/python3.12/dist-packages (from streamlit) (6.4.2)\n",
            "Requirement already satisfied: jinja2 in /usr/local/lib/python3.12/dist-packages (from altair!=5.4.0,!=5.4.1,<6,>=4.0->streamlit) (3.1.6)\n",
            "Requirement already satisfied: jsonschema>=3.0 in /usr/local/lib/python3.12/dist-packages (from altair!=5.4.0,!=5.4.1,<6,>=4.0->streamlit) (4.25.1)\n",
            "Requirement already satisfied: narwhals>=1.14.2 in /usr/local/lib/python3.12/dist-packages (from altair!=5.4.0,!=5.4.1,<6,>=4.0->streamlit) (2.7.0)\n",
            "Requirement already satisfied: gitdb<5,>=4.0.1 in /usr/local/lib/python3.12/dist-packages (from gitpython!=3.1.19,<4,>=3.0.7->streamlit) (4.0.12)\n",
            "Requirement already satisfied: python-dateutil>=2.8.2 in /usr/local/lib/python3.12/dist-packages (from pandas<3,>=1.4.0->streamlit) (2.9.0.post0)\n",
            "Requirement already satisfied: pytz>=2020.1 in /usr/local/lib/python3.12/dist-packages (from pandas<3,>=1.4.0->streamlit) (2025.2)\n",
            "Requirement already satisfied: tzdata>=2022.7 in /usr/local/lib/python3.12/dist-packages (from pandas<3,>=1.4.0->streamlit) (2025.2)\n",
            "Requirement already satisfied: charset_normalizer<4,>=2 in /usr/local/lib/python3.12/dist-packages (from requests<3,>=2.27->streamlit) (3.4.3)\n",
            "Requirement already satisfied: idna<4,>=2.5 in /usr/local/lib/python3.12/dist-packages (from requests<3,>=2.27->streamlit) (3.10)\n",
            "Requirement already satisfied: urllib3<3,>=1.21.1 in /usr/local/lib/python3.12/dist-packages (from requests<3,>=2.27->streamlit) (2.5.0)\n",
            "Requirement already satisfied: certifi>=2017.4.17 in /usr/local/lib/python3.12/dist-packages (from requests<3,>=2.27->streamlit) (2025.10.5)\n",
            "Requirement already satisfied: smmap<6,>=3.0.1 in /usr/local/lib/python3.12/dist-packages (from gitdb<5,>=4.0.1->gitpython!=3.1.19,<4,>=3.0.7->streamlit) (5.0.2)\n",
            "Requirement already satisfied: MarkupSafe>=2.0 in /usr/local/lib/python3.12/dist-packages (from jinja2->altair!=5.4.0,!=5.4.1,<6,>=4.0->streamlit) (3.0.3)\n",
            "Requirement already satisfied: attrs>=22.2.0 in /usr/local/lib/python3.12/dist-packages (from jsonschema>=3.0->altair!=5.4.0,!=5.4.1,<6,>=4.0->streamlit) (25.4.0)\n",
            "Requirement already satisfied: jsonschema-specifications>=2023.03.6 in /usr/local/lib/python3.12/dist-packages (from jsonschema>=3.0->altair!=5.4.0,!=5.4.1,<6,>=4.0->streamlit) (2025.9.1)\n",
            "Requirement already satisfied: referencing>=0.28.4 in /usr/local/lib/python3.12/dist-packages (from jsonschema>=3.0->altair!=5.4.0,!=5.4.1,<6,>=4.0->streamlit) (0.36.2)\n",
            "Requirement already satisfied: rpds-py>=0.7.1 in /usr/local/lib/python3.12/dist-packages (from jsonschema>=3.0->altair!=5.4.0,!=5.4.1,<6,>=4.0->streamlit) (0.27.1)\n",
            "Requirement already satisfied: six>=1.5 in /usr/local/lib/python3.12/dist-packages (from python-dateutil>=2.8.2->pandas<3,>=1.4.0->streamlit) (1.17.0)\n",
            "Downloading streamlit-1.50.0-py3-none-any.whl (10.1 MB)\n",
            "\u001b[2K   \u001b[90m━━━━━━━━━━━━━━━━━━━━━━━━━━━━━━━━━━━━━━━━\u001b[0m \u001b[32m10.1/10.1 MB\u001b[0m \u001b[31m61.6 MB/s\u001b[0m eta \u001b[36m0:00:00\u001b[0m\n",
            "\u001b[?25hDownloading pydeck-0.9.1-py2.py3-none-any.whl (6.9 MB)\n",
            "\u001b[2K   \u001b[90m━━━━━━━━━━━━━━━━━━━━━━━━━━━━━━━━━━━━━━━━\u001b[0m \u001b[32m6.9/6.9 MB\u001b[0m \u001b[31m56.1 MB/s\u001b[0m eta \u001b[36m0:00:00\u001b[0m\n",
            "\u001b[?25hInstalling collected packages: pydeck, streamlit\n",
            "Successfully installed pydeck-0.9.1 streamlit-1.50.0\n"
          ]
        }
      ],
      "source": [
        "!pip install feedparser\n",
        "!pip install newspaper3k\n",
        "!pip install gnews\n",
        "!pip install lxml_html_clean\n",
        "!pip install streamlit"
      ]
    },
    {
      "cell_type": "code",
      "source": [
        "import re, os, requests, json, yfinance as yf\n",
        "from datetime import datetime, timedelta\n",
        "from getpass import getpass\n",
        "from langchain.llms.base import LLM\n",
        "import matplotlib.pyplot as plt\n",
        "from langchain.agents import initialize_agent, Tool, AgentType\n",
        "from gnews import GNews\n",
        "import spacy\n",
        "import os, requests\n",
        "from getpass import getpass\n",
        "from langchain.llms.base import LLM\n",
        "import math\n",
        "import streamlit as st\n",
        "from IPython.display import display, Markdown, HTML\n",
        "from textwrap import dedent\n",
        "\n",
        "# Load spaCy model\n",
        "nlp = spacy.load(\"en_core_web_sm\")"
      ],
      "metadata": {
        "id": "DtfnEBRqDNtm"
      },
      "execution_count": 2,
      "outputs": []
    },
    {
      "cell_type": "markdown",
      "source": [
        "# **Configuration & Secrets**\n",
        "\n",
        "- Load API keys / model names from environment variables (avoid hard-coding).\n",
        "\n",
        "- Define reusable constants: default ticker, date ranges, cache paths, model  params.\n",
        "\n",
        "- Toggle debug flags (e.g., DEBUG, SAVE_OUTPUTS)."
      ],
      "metadata": {
        "id": "t3V0vg3X9aWx"
      }
    },
    {
      "cell_type": "code",
      "source": [
        "TRUSTED_SOURCES = [\n",
        "    \"reuters\", \"bloomberg\", \"wsj\", \"cnbc\", \"financial times\", \"ft.com\",\n",
        "    \"the wall street journal\", \"the financial times\", \"the economist\", \"the new york times\",\n",
        "    \"the washington post\", \"the guardian\", \"the times\", \"the telegraph\",\n",
        "    \"cnn business\", \"bbc business\", \"nbc business\", \"cbs business\", \"abc business\",\n",
        "    \"the street\", \"investopedia\", \"fool.com\",\n",
        "    \"marketwatch\", \"barrons\", \"economist\", \"forbes\", \"morningstar\", \"yahoo finance\",\n",
        "    \"zacks\", \"seekingalpha\", \"investopedia\", \"fool\", \"thestreet\", \"nasdaq\",\n",
        "    \"bbc\", \"guardian\", \"nytimes\", \"washingtonpost\", \"time\", \"npr\",\n",
        "    \"abc news\", \"nbc news\", \"cbs news\", \"usa today\", \"politico\", \"axios\",\n",
        "    \"business insider\", \"fortune\", \"fastcompany\", \"wired\", \"venturebeat\", \"protocol\",\n",
        "    \"associated press\", \"apnews\", \"upi\", \"businesswire\", \"prnewswire\", \"globenewswire\",\n",
        "    \"marketwired\", \"thestockmarketwire\", \"securities and exchange commission\",\n",
        "    \"techcrunch\", \"arstechnica\", \"fiercebiotech\", \"fiercepharma\", \"medscape\",\n",
        "    \"biopharmadive\", \"supplychaindive\", \"retaildive\", \"cfo.com\",\n",
        "    \"nikkei\", \"asiafinancial\", \"scmp\", \"south china morning post\",\n",
        "    \"the hindu business line\", \"economic times\", \"livemint\",\n",
        "    \"afr.com\", \"the australian financial review\", \"globe and mail\", \"canadianbusiness\",\n",
        "    \"les echos\", \"handelsblatt\", \"deutsche welle\", \"elpais\", \"expansion\",\n",
        "    \"benzinga\", \"kiplinger\", \"marketscreener\", \"tradingeconomics\", \"fxstreet\",\n",
        "    \"cointelegraph\", \"coindesk\", \"cryptoslate\", \"etftrends\", \"etfdailynews\"\n",
        "]\n",
        "\n",
        "\n",
        "KEY_TERMS = {\"earnings\", \"sec filing\", \"guidance\", \"revenue\", \"acquisition\", \"partnership\", \"ceo\", \"cfo\"}\n",
        "GEMINI_MODEL = \"gemini-2.5-pro\""
      ],
      "metadata": {
        "id": "3RSWLCUsoMR7"
      },
      "execution_count": 3,
      "outputs": []
    },
    {
      "cell_type": "markdown",
      "source": [
        "## **Preprocessing Utilities**\n",
        "\n",
        "- Clean/normalize news text (lowercasing, de-dup, simple token cleanup).\n",
        "\n",
        "- Align timestamps across price/news/earnings; handle missing values.\n",
        "\n",
        "- Optional feature engineering (returns, rolling stats)."
      ],
      "metadata": {
        "id": "U4OmVVvP9if8"
      }
    },
    {
      "cell_type": "code",
      "source": [
        "def safe_json_parse(raw: str):\n",
        "    try:\n",
        "        return json.loads(raw)\n",
        "    except:\n",
        "        cleaned = raw.strip()\n",
        "        cleaned = re.sub(r\"^```(json)?\", \"\", cleaned)\n",
        "        cleaned = re.sub(r\"```$\", \"\", cleaned)\n",
        "        cleaned = cleaned.strip()\n",
        "\n",
        "        try:\n",
        "            return json.loads(cleaned)\n",
        "        except:\n",
        "            match = re.search(r\"\\{.*\\}\", raw, re.DOTALL)\n",
        "            if match:\n",
        "                return json.loads(match.group(0))\n",
        "            raise ValueError(f\"Could not parse JSON:\\n{raw}\")"
      ],
      "metadata": {
        "id": "2Jwdv_u9oXuE"
      },
      "execution_count": 4,
      "outputs": []
    },
    {
      "cell_type": "markdown",
      "source": [
        "## **Prompt Templates**\n",
        "\n",
        "- Centralize all prompts: planning prompt, news summary prompt, earnings extraction prompt, evaluator prompt.\n",
        "\n",
        "- Keep variables (e.g., {ticker}, {window}, {raw_text}) explicit for reuse.\n",
        "\n",
        "- Small helper to format prompts safely."
      ],
      "metadata": {
        "id": "z_Kwkd0e9dku"
      }
    },
    {
      "cell_type": "code",
      "source": [
        "# Display the analysis plan in a readable format\n",
        "def display_plan(plan_json: str):\n",
        "    try:\n",
        "        plan = json.loads(plan_json) if isinstance(plan_json, str) else plan_json\n",
        "    except Exception as e:\n",
        "        print(\"Could not parse plan JSON:\", e)\n",
        "        print(plan_json)\n",
        "        return\n",
        "\n",
        "    print(\"\\n Analysis Plan\")\n",
        "    print(\"=\"*60)\n",
        "\n",
        "    steps = plan.get(\"plan\", plan)  # handle both wrapped or plain JSON\n",
        "    for step in steps:\n",
        "        num = step.get(\"step_number\", \"?\")\n",
        "        action = step.get(\"action\", \"\")\n",
        "        tool = step.get(\"tool_needed\", \"\")\n",
        "        desc = step.get(\"description\", \"\")\n",
        "        print(f\" Step {num}: {action}\")\n",
        "        print(f\" Tool   : {tool}\")\n",
        "        print(f\" Detail : {desc}\\n\")\n",
        "\n",
        "    print(\"=\"*60)\n",
        "\n",
        "# Function to display the report in a readable format\n",
        "def display_report(data: dict, hist_prices=None):\n",
        "    print(\"=\"*60)\n",
        "    print(f\"Financial Report: {data['symbol']}\")\n",
        "    print(\"=\"*60)\n",
        "\n",
        "    # Price Analysis\n",
        "    print(\"\\n Price Analysis\")\n",
        "    pa = data[\"price_analysis\"]\n",
        "    print(f\"   Current Price      : {pa['current_price']}\")\n",
        "    print(f\"   30-Day Moving Avg  : {pa['30d_moving_avg']}\")\n",
        "    print(f\"   Trend              : {pa['trend']}\")\n",
        "\n",
        "    # News Analysis\n",
        "    print(\"\\n News Analysis\")\n",
        "    na = data[\"news_analysis\"]\n",
        "    print(f\"   Sentiment     : {na['sentiment']}\")\n",
        "    print(f\"   Classification: {na['classification']}\")\n",
        "    print(f\"   Summary       : {na['Summary']}\")\n",
        "\n",
        "    # Earnings Analysis\n",
        "    print(\"\\n Earnings Analysis\")\n",
        "    ea = data[\"earnings_analysis\"]\n",
        "    print(f\"   EPS       : {ea['EPS']}\")\n",
        "    print(f\"   Revenue   : {ea['Revenue']}\")\n",
        "    print(f\"   Guidance  : {ea['Guidance']}\")\n",
        "    print(f\"   Summary   : {ea['Summary']}\")\n",
        "\n",
        "    print(\"\\n\" + \"=\"*60)\n",
        "\n",
        "      # Chart: Price trend\n",
        "    if hist_prices is not None and not hist_prices.empty:\n",
        "        plt.figure(figsize=(10,5))\n",
        "        plt.plot(hist_prices.index, hist_prices[\"Close\"], label=\"Close Price\", linewidth=2)\n",
        "        plt.axhline(y=float(pa[\"30d_moving_avg\"]), color=\"red\", linestyle=\"--\", label=\"30D Moving Avg\")\n",
        "        plt.title(f\"{data['symbol']} - Last 30 Days Price Trend\")\n",
        "        plt.xlabel(\"Date\")\n",
        "        plt.ylabel(\"Price (USD)\")\n",
        "        plt.legend()\n",
        "        plt.grid(True)\n",
        "        plt.show()"
      ],
      "metadata": {
        "id": "_yKDxhPcejPC"
      },
      "execution_count": 5,
      "outputs": []
    },
    {
      "cell_type": "markdown",
      "source": [
        "## **Agent Definitions**\n",
        "\n",
        "- InvestmentResearchAgent (orchestrator): plans tasks, calls router, assembles results.\n",
        "\n",
        "- NewsAnalyzer: summarizes finance news, extracts sentiment/key points.\n",
        "\n",
        "- EarningsAnalyzer: extracts EPS/revenue/surprise; summarizes quarter highlights.\n",
        "\n",
        "- EvaluatorAgent: checks clarity/accuracy/completeness; proposes fixes."
      ],
      "metadata": {
        "id": "_adRSJzB9f6G"
      }
    },
    {
      "cell_type": "markdown",
      "source": [
        "## **Data Fetchers for Market & News**\n",
        "\n",
        "- get_price_data(ticker, period, interval) → pull price/volume.\n",
        "\n",
        "- get_earnings_data(ticker) → EPS, revenue, surprise, dates.\n",
        "\n",
        "- get_news_items(query or ticker) → headlines/snippets/timestamps from a feed/API."
      ],
      "metadata": {
        "id": "_YbgHwYc9bx3"
      }
    },
    {
      "cell_type": "markdown",
      "source": [
        "Finance Tools:\n",
        "Retrives Stock Prices Data from Yahho Finanace"
      ],
      "metadata": {
        "id": "j7ne3rTYo15s"
      }
    },
    {
      "cell_type": "code",
      "source": [
        "def get_price_data(ticker: str):\n",
        "  stock = yf.Ticker(ticker)\n",
        "  hist = stock.history(period=\"30d\")\n",
        "  if hist.empty:\n",
        "      return {\"current_price\": None, \"30d_moving_avg\": None, \"trend\": \"unknown\"}\n",
        "\n",
        "  current_price = float(hist[\"Close\"].iloc[-1])\n",
        "  moving_avg = float(hist[\"Close\"].mean())\n",
        "  trend = \"up\" if current_price > moving_avg else \"down\"\n",
        "\n",
        "  return {\n",
        "      \"current_price\": f\"{current_price:.2f}\",\n",
        "      \"30d_moving_avg\": f\"{moving_avg:.2f}\",\n",
        "      \"trend\": trend,\n",
        "  }\n",
        "\n",
        "def get_eps_revenue(ticker: str):\n",
        "  t = yf.Ticker(ticker)\n",
        "\n",
        "  cal = t.get_earnings_dates(limit=8).sort_index()\n",
        "  eps = float(cal[cal[\"Reported EPS\"].notna()].iloc[-1][\"Reported EPS\"])\n",
        "  revenue = int(t.quarterly_income_stmt.loc[\"Total Revenue\"].iloc[0])\n",
        "\n",
        "  return {\n",
        "      \"EPS\": f\"{eps:.2f} USD/share\",\n",
        "      \"Revenue\": f\"${revenue:,.0f} (USD)\"\n",
        "  }"
      ],
      "metadata": {
        "id": "O3wsI5umo0Bb"
      },
      "execution_count": 7,
      "outputs": []
    },
    {
      "cell_type": "markdown",
      "source": [
        "# News Section"
      ],
      "metadata": {
        "id": "X2_r74Dm9j7j"
      }
    },
    {
      "cell_type": "markdown",
      "source": [
        "News Tools"
      ],
      "metadata": {
        "id": "HCy3u_hVpuTp"
      }
    },
    {
      "cell_type": "code",
      "source": [
        "def fetch_news(ticker: str, max_articles: int = 1):\n",
        "    google_news = GNews(language=\"en\", country=\"US\", period=\"90d\", max_results=20)\n",
        "    results = google_news.get_news(f\"{ticker} stock\")\n",
        "\n",
        "    cutoff = datetime.now() - timedelta(days=90)\n",
        "    articles = []\n",
        "\n",
        "    for article in results:\n",
        "        title = article.get(\"title\", \"\")\n",
        "        summary = article.get(\"description\", \"\")\n",
        "        publisher = article.get(\"publisher\", {}).get(\"title\", \"\")\n",
        "        pub_date_str = article.get(\"published date\", \"\")\n",
        "\n",
        "        pub_date = None\n",
        "        try:\n",
        "            pub_date = datetime.strptime(pub_date_str, \"%a, %d %b %Y %H:%M:%S %Z\")\n",
        "        except:\n",
        "            pass\n",
        "\n",
        "        if publisher.lower() not in TRUSTED_SOURCES:\n",
        "            continue\n",
        "        if pub_date < cutoff:\n",
        "            continue\n",
        "\n",
        "        articles.append({\n",
        "            \"title\": title,\n",
        "            \"summary\": summary,\n",
        "            \"publisher\": publisher,\n",
        "            \"publishedAt\": pub_date.isoformat(),\n",
        "            \"url\": article.get(\"url\", \"\")\n",
        "        })\n",
        "\n",
        "        if len(articles) >= max_articles:\n",
        "            break\n",
        "\n",
        "    return articles\n",
        "\n",
        "\n",
        "def _aggregate_news(items: list[dict]) -> str:\n",
        "    parts = []\n",
        "    for i, it in enumerate(items, 1):\n",
        "        title = it.get(\"title\", \"\")\n",
        "        summary = it.get(\"summary\", \"\")\n",
        "        parts.append(f\"[{i}] {title}\\n{summary}\")\n",
        "    return \"\\n\\n---\\n\\n\".join(parts).strip()\n"
      ],
      "metadata": {
        "id": "t55IXjbmpW__"
      },
      "execution_count": 8,
      "outputs": []
    },
    {
      "cell_type": "markdown",
      "source": [
        "# New Section"
      ],
      "metadata": {
        "id": "DhiBYp9A9liv"
      }
    },
    {
      "cell_type": "markdown",
      "source": [
        "LLM Tools"
      ],
      "metadata": {
        "id": "c0ygwN6AKsim"
      }
    },
    {
      "cell_type": "code",
      "source": [
        "# Gemini API wrapper\n",
        "def call_gemini(prompt: str, model: str = \"gemini-2.5-pro\") -> str:\n",
        "    url = f\"https://generativelanguage.googleapis.com/v1beta/models/{model}:generateContent?key={os.getenv('GOOGLE_API_KEY')}\"\n",
        "    headers = {\"Content-Type\": \"application/json\"}\n",
        "    payload = {\"contents\": [{\"parts\": [{\"text\": prompt}]}]}\n",
        "    response = requests.post(url, headers=headers, json=payload)\n",
        "    response.raise_for_status()\n",
        "    data = response.json()\n",
        "    text = data[\"candidates\"][0][\"content\"][\"parts\"][0][\"text\"]\n",
        "\n",
        "    return text\n",
        "\n",
        "# LangChain LLM wrapper\n",
        "class GeminiLLM(LLM):\n",
        "    def _call(self, prompt: str, stop=None) -> str:\n",
        "        return call_gemini(prompt)\n",
        "    @property\n",
        "    def _identifying_params(self): return {\"name\": \"GeminiLLM\"}\n",
        "    @property\n",
        "    def _llm_type(self): return \"custom_gemini\"\n",
        "\n",
        "\n",
        "\n",
        "def analyze_sentiment(text: str) -> str:\n",
        "    return f\"Sentiment: {'positive' if 'strong' in text else 'neutral'}\"\n",
        "\n",
        "tools = [\n",
        "    Tool(name=\"FetchNews\", func=fetch_news, description=\"Fetch recent news for a stock ticker\"),\n",
        "    Tool(name=\"SentimentAnalyzer\", func=analyze_sentiment, description=\"Classify news as positive, neutral, or negative\"),\n",
        "]\n",
        "\n",
        "llm = GeminiLLM()\n",
        "sub_agent = initialize_agent(tools, llm, agent=AgentType.CONVERSATIONAL_REACT_DESCRIPTION, verbose=True, handle_parsing_errors=True)"
      ],
      "metadata": {
        "id": "ajMFj8xsGFjh",
        "colab": {
          "base_uri": "https://localhost:8080/"
        },
        "outputId": "015c7d93-cc56-4865-c911-167bbb73510d"
      },
      "execution_count": 9,
      "outputs": [
        {
          "output_type": "stream",
          "name": "stderr",
          "text": [
            "/tmp/ipython-input-3673690318.py:33: LangChainDeprecationWarning: LangChain agents will continue to be supported, but it is recommended for new use cases to be built with LangGraph. LangGraph offers a more flexible and full-featured framework for building agents, including support for tool-calling, persistence of state, and human-in-the-loop workflows. For details, refer to the `LangGraph documentation <https://langchain-ai.github.io/langgraph/>`_ as well as guides for `Migrating from AgentExecutor <https://python.langchain.com/docs/how_to/migrate_agent/>`_ and LangGraph's `Pre-built ReAct agent <https://langchain-ai.github.io/langgraph/how-tos/create-react-agent/>`_.\n",
            "  sub_agent = initialize_agent(tools, llm, agent=AgentType.CONVERSATIONAL_REACT_DESCRIPTION, verbose=True, handle_parsing_errors=True)\n"
          ]
        }
      ]
    },
    {
      "cell_type": "markdown",
      "source": [
        "# **Multi Class Agent with Pipeline Orchestrator**\n",
        "\n",
        "- run_multi_agent_pipeline(ticker, options) glues everything:\n",
        "\n",
        "- plan → 2) chain → 3) route → 4) analyze → 5) evaluate → 6) memory → 7) assemble output.\n",
        "\n",
        "- Time each step; collect pass/fail gates; handle exceptions gracefully.\n",
        "\n",
        "- Returns the final structured JSON:"
      ],
      "metadata": {
        "id": "5pj6mwnV9p1B"
      }
    },
    {
      "cell_type": "code",
      "source": [
        "class InvestmentResearchAgent:\n",
        "    def __init__(self, ticker: str):\n",
        "        self.ticker = ticker\n",
        "        self.memory = []\n",
        "        self.plan = None\n",
        "\n",
        "    def plan_steps(self, context: str = \"\"):\n",
        "        prompt = f\"\"\"\n",
        "        You are a financial analyst. Given the stock ticker: {self.ticker} and context: {context},\n",
        "        return a JSON-structured plan, where each step has:\n",
        "          - step_number\n",
        "          - action\n",
        "          - tool_needed\n",
        "          - description\n",
        "        \"\"\"\n",
        "        raw = call_gemini(prompt)\n",
        "        return safe_json_parse(raw)\n",
        "\n",
        "    def prompt_chain(self, news_text: str):\n",
        "        clean = news_text.strip()\n",
        "        classification = self.route(clean)\n",
        "        facts = call_gemini(f\"Extract key financial metrics from this text:\\n{clean}\")\n",
        "        summary = call_gemini(f\"Summarize in 3 sentences and limit in 200 words:\\n{facts}\")\n",
        "        return {\"classification\": classification, \"summary\": summary}\n",
        "\n",
        "    def route(self, text: str):\n",
        "        doc = nlp(text)\n",
        "        ents = [(ent.text, ent.label_) for ent in doc.ents]\n",
        "\n",
        "        orgs = [ent.text for ent in doc.ents if ent.label_ == \"ORG\"]\n",
        "        persons = [ent.text for ent in doc.ents if ent.label_ == \"PERSON\"]\n",
        "        money = [ent.text for ent in doc.ents if ent.label_ in (\"MONEY\", \"PERCENT\")]\n",
        "        dates = [ent.text for ent in doc.ents if ent.label_ == \"DATE\"]\n",
        "\n",
        "        if orgs and money:\n",
        "            category = \"earnings\"\n",
        "        elif len(orgs) >= 2:\n",
        "            category = \"merger/acquisition\"\n",
        "        elif persons and orgs:\n",
        "            category = \"executive news\"\n",
        "        else:\n",
        "            category = \"general\"\n",
        "\n",
        "        # call gemini for detailed analysis only one time\n",
        "        analysis = call_gemini(f\"Category: {category}\\nNews:\\n{text}\\n\\nProvide a detailed {category} analysis.\")\n",
        "\n",
        "        return {\n",
        "            \"category\": category,\n",
        "            \"entities\": ents,\n",
        "            \"analysis\": analysis\n",
        "        }\n",
        "\n",
        "    def evaluate_and_refine(self, analysis_text: str) -> str:\n",
        "      critique = call_gemini(\n",
        "          \"Critique the following financial analysis for accuracy, clarity, relevance, \"\n",
        "          \"and actionability for investors:\\n\\n\" + analysis_text\n",
        "      )\n",
        "      improved = call_gemini(\n",
        "          f\"Original analysis:\\n{analysis_text}\\n\\nCritique:\\n{critique}\\n\\n\"\n",
        "          \"Rewrite the analysis applying all improvements. Return only the improved analysis.\"\n",
        "      )\n",
        "      return improved\n",
        "\n",
        "    def remember(self, note: str): self.memory.append(note)\n",
        "    def recall(self): return \"\\n\".join(self.memory[-3:]) if self.memory else \"No past memory.\"\n",
        "\n",
        "      # orchestrator\n",
        "    def run(self, context: str = \"\", max_articles: int = 5) -> dict:\n",
        "        self.plan = self.plan_steps(context)\n",
        "        print(\"Plan:\", self.plan_steps(context))\n",
        "\n",
        "        # 1) fetch news\n",
        "        items = fetch_news(self.ticker, max_articles=max_articles)\n",
        "\n",
        "        price = get_price_data(self.ticker)\n",
        "        eps_rev = get_eps_revenue(self.ticker)\n",
        "\n",
        "        # 2) aggregate all articles into one text block\n",
        "        combined_text = _aggregate_news(items)\n",
        "\n",
        "        # 3) single-pass analysis on the aggregated text\n",
        "        chained = self.prompt_chain(combined_text)\n",
        "        routed  = self.route(combined_text)\n",
        "        refined = self.evaluate_and_refine(routed[\"analysis\"])\n",
        "\n",
        "        # 4) one overall sentiment on the combined text\n",
        "        overall_sentiment = analyze_sentiment(combined_text)\n",
        "\n",
        "        # 5) the summary from all news\n",
        "        news_rows = {\n",
        "            \"sentiment\": overall_sentiment,\n",
        "            \"classification\": routed[\"category\"],\n",
        "            \"Summary\": refined,\n",
        "        }\n",
        "\n",
        "        # 6) ask LLM ONCE to fill earnings based on aggregate\n",
        "        base = {\n",
        "            \"symbol\": self.ticker,\n",
        "            \"price_analysis\": price,\n",
        "            \"news_analysis\": news_rows,\n",
        "            \"earnings_analysis\": {\n",
        "                \"EPS\": eps_rev[\"EPS\"],\n",
        "                \"Revenue\": eps_rev[\"Revenue\"],\n",
        "                \"Guidance\": \"<number here>\",\n",
        "                \"Summary\": \"<text here> - keep limit to 200 words\"\n",
        "            }\n",
        "        }\n",
        "\n",
        "        fill_prompt = f\"\"\"\n",
        "    You are a financial analysis assistant.\n",
        "    Using ONLY the AGGREGATED analysis below, fill the Summary and Guidance fields in earnings_analysis.\n",
        "    Do not change price_analysis, news_analysis, EPS or Revenue.\n",
        "\n",
        "    Aggregated classification: {routed['category']}\n",
        "    Prompt-chain summary: {chained.get('summary','')}\n",
        "    Aggregated refined analysis:\n",
        "    {refined}\n",
        "\n",
        "    JSON:\n",
        "    {json.dumps(base, indent=2)}\n",
        "    \"\"\"\n",
        "        filled = safe_json_parse(call_gemini(fill_prompt))\n",
        "        earnings = filled.get(\"earnings_analysis\", base[\"earnings_analysis\"])\n",
        "\n",
        "        return {\n",
        "            \"symbol\": self.ticker,\n",
        "            \"price_analysis\": price,\n",
        "            \"news_analysis\": news_rows,\n",
        "            \"earnings_analysis\": earnings,\n",
        "        }\n"
      ],
      "metadata": {
        "id": "Ri5GUpa9yIzO"
      },
      "execution_count": 12,
      "outputs": []
    },
    {
      "cell_type": "markdown",
      "source": [
        "# New Section"
      ],
      "metadata": {
        "id": "bJK3z2lK9tMI"
      }
    },
    {
      "cell_type": "code",
      "source": [
        "os.environ[\"GOOGLE_API_KEY\"] = getpass(\"Enter your Google API key: \")\n",
        "\n",
        "agent = InvestmentResearchAgent(\"AAPL\")  # MSFT, NVDA, TSLA, MDT\n",
        "result = agent.run()\n",
        "print(json.dumps(result, indent=2))"
      ],
      "metadata": {
        "colab": {
          "base_uri": "https://localhost:8080/"
        },
        "id": "EfzqLRbYyQDk",
        "outputId": "4f5ec5c8-3bd9-4dc5-b357-be3afb315b4d"
      },
      "execution_count": 13,
      "outputs": [
        {
          "output_type": "stream",
          "name": "stdout",
          "text": [
            "Enter your Google API key: ··········\n",
            "Plan: {'plan': [{'step_number': 1, 'action': 'Get Company Profile', 'tool_needed': 'company_profile', 'description': \"Retrieve essential company information for AAPL, including its business description, industry, sector, and key executives. This provides a foundational understanding of the company's operations and market position.\"}, {'step_number': 2, 'action': 'Get Real-Time Stock Quote', 'tool_needed': 'get_stock_quote', 'description': \"Fetch the latest stock price, daily trading volume, market capitalization, and key valuation metrics like P/E ratio for AAPL. This gives a current snapshot of the stock's market valuation.\"}, {'step_number': 3, 'action': 'Analyze Annual Financial Statements', 'tool_needed': 'get_financial_statements', 'description': 'Examine the annual income statement, balance sheet, and cash flow statement for the past 3-5 years. This will help in assessing revenue growth, profitability trends, debt levels, and overall financial health.'}, {'step_number': 4, 'action': 'Get Key Financial Ratios', 'tool_needed': 'get_key_financial_ratios', 'description': 'Analyze key financial ratios such as Return on Equity (ROE), Debt-to-Equity, and Price-to-Book (P/B). This allows for a deeper analysis of profitability, leverage, and valuation compared to historical trends and industry peers.'}, {'step_number': 5, 'action': 'Get Analyst Recommendations and Price Targets', 'tool_needed': 'get_analyst_recommendations', 'description': 'Gather consensus analyst ratings (e.g., buy, hold, sell) and average price targets for AAPL. This provides insight into the sentiment of the professional investment community.'}, {'step_number': 6, 'action': 'Fetch Recent Company News', 'tool_needed': 'get_company_news', 'description': 'Retrieve the latest news articles and press releases related to AAPL to identify any recent events, product announcements, or market developments that could impact the stock price.'}, {'step_number': 7, 'action': 'Synthesize Findings and Generate a Summary', 'tool_needed': 'final_summary', 'description': \"Consolidate all the gathered information from the previous steps to formulate a comprehensive analysis and provide a concluding summary of AAPL's financial health, valuation, and investment outlook.\"}]}\n",
            "{\n",
            "  \"symbol\": \"AAPL\",\n",
            "  \"price_analysis\": {\n",
            "    \"current_price\": \"248.41\",\n",
            "    \"30d_moving_avg\": \"246.06\",\n",
            "    \"trend\": \"up\"\n",
            "  },\n",
            "  \"news_analysis\": {\n",
            "    \"sentiment\": \"Sentiment: neutral\",\n",
            "    \"classification\": \"merger/acquisition\",\n",
            "    \"Summary\": \"### Merger & Acquisition Analysis: Apple Inc. (AAPL)\\n\\nWhile recent headlines focus exclusively on Apple's strong stock performance and rising valuation, they contain no information regarding new merger or acquisition (M&A) activity. This is consistent with the company's long-standing strategy. However, an investor should interpret Apple's powerful financial position\\u2014bolstered by the very market strength noted in the headlines\\u2014as a key enabler of its strategic acquisition potential.\\n\\n#### 1. Context of Current Headlines: Business as Usual\\n\\nThe provided headlines correctly indicate positive momentum in Apple's stock price and analyst sentiment. The absence of major M&A news within this context is not an oversight but rather reflects Apple's established corporate strategy. The company historically avoids \\\"mega-mergers,\\\" instead pursuing a disciplined \\\"tuck-in\\\" acquisition approach. This involves frequently acquiring smaller, innovative technology firms to integrate their talent and intellectual property directly into its product ecosystem.\\n\\n#### 2. Synthesizing Market Performance with M&A Capability\\n\\nThe market trends highlighted in the headlines are directly relevant to Apple's M&A firepower.\\n\\n*   **Increased Purchasing Power:** The recent rise in Apple's stock price and valuation increases its ability to make strategic moves. While Apple traditionally uses its vast cash reserves (over $60 billion in cash and marketable securities as of its last report) for acquisitions, a highly valued stock also serves as powerful currency for potential, larger-scale deals, should its strategy ever shift.\\n*   **Funding Innovation:** A strong market position allows Apple to continue acquiring firms in key growth areas without spooking investors or diluting shareholder value, reinforcing its innovation pipeline for products like the Vision Pro, AI-powered services, and next-generation silicon.\\n\\n#### 3. Actionable Insights for Investors\\n\\nFor investors, the key takeaway is that the absence of M&A headlines is a non-event and represents a continuation of a successful, long-term strategy. Apple's growth thesis does not currently depend on large-scale, transformative acquisitions.\\n\\nInstead, investors should monitor the following as key signals of the company's future direction:\\n\\n*   **Watch for Small Acquisitions:** Pay close attention to official announcements of smaller acquisitions, as these often serve as a leading indicator of Apple's future product roadmap and R&D focus.\\n*   **Focus on Strategic Areas:** The most significant \\\"tuck-in\\\" deals will likely be in high-priority sectors such as **Artificial Intelligence/Machine Learning** (to enhance software and on-device processing), **Augmented/Virtual Reality** (to build out the Vision Pro ecosystem), and **Health Technology** (to expand the capabilities of the Apple Watch).\\n*   **Capital Allocation:** Continue to monitor Apple's capital allocation strategy. A significant change in how it uses its cash hoard could signal a shift in M&A philosophy, but for now, the focus remains on internal innovation supplemented by strategic, targeted acquisitions.\"\n",
            "  },\n",
            "  \"earnings_analysis\": {\n",
            "    \"EPS\": \"1.57 USD/share\",\n",
            "    \"Revenue\": \"$94,036,000,000 (USD)\",\n",
            "    \"Guidance\": \"The absence of M&A headlines is consistent with company strategy and should be considered a non-event. Investors should monitor for announcements of smaller, 'tuck-in' acquisitions, as these are leading indicators of Apple's future product roadmap. Focus should be on deals in strategic sectors like AI/Machine Learning, AR/VR, and Health Technology. Continue to watch Apple's capital allocation for any signal of a shift in its M&A philosophy.\",\n",
            "    \"Summary\": \"Despite strong stock performance, there is no news of new merger or acquisition (M&A) activity, which aligns with Apple's long-standing strategy. The company historically avoids 'mega-mergers', favoring a disciplined 'tuck-in' approach of acquiring smaller tech firms to integrate their IP and talent. Apple's powerful financial position, including over $60B in cash and a high stock valuation, serves as significant M&A firepower for these strategic moves. This allows Apple to acquire firms in key growth areas and reinforce its innovation pipeline without diluting shareholder value. The company's growth does not depend on large-scale acquisitions but on internal innovation supplemented by these targeted purchases.\"\n",
            "  }\n",
            "}\n"
          ]
        }
      ]
    },
    {
      "cell_type": "markdown",
      "source": [
        "# New Section"
      ],
      "metadata": {
        "id": "yfgGK8Ni94Sb"
      }
    },
    {
      "cell_type": "code",
      "source": [
        "stock = yf.Ticker(\"AAPL\")\n",
        "hist = stock.history(period=\"30d\") # Get last 30 days of price data"
      ],
      "metadata": {
        "id": "BBTTY1-yHqrw"
      },
      "execution_count": 18,
      "outputs": []
    },
    {
      "cell_type": "code",
      "source": [
        "display_report(result, hist)"
      ],
      "metadata": {
        "colab": {
          "base_uri": "https://localhost:8080/",
          "height": 1000
        },
        "id": "-74iwZnyrGZz",
        "outputId": "ad8701ec-8d7f-48b6-db1f-7007e8ed8024"
      },
      "execution_count": 20,
      "outputs": [
        {
          "output_type": "stream",
          "name": "stdout",
          "text": [
            "============================================================\n",
            "Financial Report: AAPL\n",
            "============================================================\n",
            "\n",
            " Price Analysis\n",
            "   Current Price      : 248.41\n",
            "   30-Day Moving Avg  : 246.06\n",
            "   Trend              : up\n",
            "\n",
            " News Analysis\n",
            "   Sentiment     : Sentiment: neutral\n",
            "   Classification: merger/acquisition\n",
            "   Summary       : ### Merger & Acquisition Analysis: Apple Inc. (AAPL)\n",
            "\n",
            "While recent headlines focus exclusively on Apple's strong stock performance and rising valuation, they contain no information regarding new merger or acquisition (M&A) activity. This is consistent with the company's long-standing strategy. However, an investor should interpret Apple's powerful financial position—bolstered by the very market strength noted in the headlines—as a key enabler of its strategic acquisition potential.\n",
            "\n",
            "#### 1. Context of Current Headlines: Business as Usual\n",
            "\n",
            "The provided headlines correctly indicate positive momentum in Apple's stock price and analyst sentiment. The absence of major M&A news within this context is not an oversight but rather reflects Apple's established corporate strategy. The company historically avoids \"mega-mergers,\" instead pursuing a disciplined \"tuck-in\" acquisition approach. This involves frequently acquiring smaller, innovative technology firms to integrate their talent and intellectual property directly into its product ecosystem.\n",
            "\n",
            "#### 2. Synthesizing Market Performance with M&A Capability\n",
            "\n",
            "The market trends highlighted in the headlines are directly relevant to Apple's M&A firepower.\n",
            "\n",
            "*   **Increased Purchasing Power:** The recent rise in Apple's stock price and valuation increases its ability to make strategic moves. While Apple traditionally uses its vast cash reserves (over $60 billion in cash and marketable securities as of its last report) for acquisitions, a highly valued stock also serves as powerful currency for potential, larger-scale deals, should its strategy ever shift.\n",
            "*   **Funding Innovation:** A strong market position allows Apple to continue acquiring firms in key growth areas without spooking investors or diluting shareholder value, reinforcing its innovation pipeline for products like the Vision Pro, AI-powered services, and next-generation silicon.\n",
            "\n",
            "#### 3. Actionable Insights for Investors\n",
            "\n",
            "For investors, the key takeaway is that the absence of M&A headlines is a non-event and represents a continuation of a successful, long-term strategy. Apple's growth thesis does not currently depend on large-scale, transformative acquisitions.\n",
            "\n",
            "Instead, investors should monitor the following as key signals of the company's future direction:\n",
            "\n",
            "*   **Watch for Small Acquisitions:** Pay close attention to official announcements of smaller acquisitions, as these often serve as a leading indicator of Apple's future product roadmap and R&D focus.\n",
            "*   **Focus on Strategic Areas:** The most significant \"tuck-in\" deals will likely be in high-priority sectors such as **Artificial Intelligence/Machine Learning** (to enhance software and on-device processing), **Augmented/Virtual Reality** (to build out the Vision Pro ecosystem), and **Health Technology** (to expand the capabilities of the Apple Watch).\n",
            "*   **Capital Allocation:** Continue to monitor Apple's capital allocation strategy. A significant change in how it uses its cash hoard could signal a shift in M&A philosophy, but for now, the focus remains on internal innovation supplemented by strategic, targeted acquisitions.\n",
            "\n",
            " Earnings Analysis\n",
            "   EPS       : 1.57 USD/share\n",
            "   Revenue   : $94,036,000,000 (USD)\n",
            "   Guidance  : The absence of M&A headlines is consistent with company strategy and should be considered a non-event. Investors should monitor for announcements of smaller, 'tuck-in' acquisitions, as these are leading indicators of Apple's future product roadmap. Focus should be on deals in strategic sectors like AI/Machine Learning, AR/VR, and Health Technology. Continue to watch Apple's capital allocation for any signal of a shift in its M&A philosophy.\n",
            "   Summary   : Despite strong stock performance, there is no news of new merger or acquisition (M&A) activity, which aligns with Apple's long-standing strategy. The company historically avoids 'mega-mergers', favoring a disciplined 'tuck-in' approach of acquiring smaller tech firms to integrate their IP and talent. Apple's powerful financial position, including over $60B in cash and a high stock valuation, serves as significant M&A firepower for these strategic moves. This allows Apple to acquire firms in key growth areas and reinforce its innovation pipeline without diluting shareholder value. The company's growth does not depend on large-scale acquisitions but on internal innovation supplemented by these targeted purchases.\n",
            "\n",
            "============================================================\n"
          ]
        },
        {
          "output_type": "display_data",
          "data": {
            "text/plain": [
              "<Figure size 1000x500 with 1 Axes>"
            ],
            "image/png": "[encoded data removed]"
          },
          "metadata": {}
        }
      ]
    },
    {
      "cell_type": "code",
      "source": [
        "agent = InvestmentResearchAgent(\"NVDA\")  # MSFT, NVDA, TSLA, MDT\n",
        "result = agent.run()\n",
        "print(json.dumps(result, indent=2))"
      ],
      "metadata": {
        "colab": {
          "base_uri": "https://localhost:8080/"
        },
        "id": "eRHF2LAN924Y",
        "outputId": "406b4b65-7cd7-486a-f91a-6baccab602ab"
      },
      "execution_count": null,
      "outputs": [
        {
          "output_type": "stream",
          "name": "stdout",
          "text": [
            "Enter your Google API key: ··········\n",
            "Plan: [{'step_number': 1, 'action': 'get_company_overview', 'tool_needed': 'financial_data_tool', 'description': 'Obtain a high-level summary of NVIDIA (NVDA), including its business description, industry, sector, market capitalization, P/E ratio, and dividend yield to establish a foundational understanding.'}, {'step_number': 2, 'action': 'get_historical_stock_data', 'tool_needed': 'financial_data_tool', 'description': 'Retrieve historical stock price and volume data for NVDA over the past 5 years to analyze performance trends, volatility, and identify key support and resistance levels.'}, {'step_number': 3, 'action': 'analyze_financial_statements', 'tool_needed': 'financial_data_tool', 'description': \"Examine NVDA's annual and quarterly financial statements (Income Statement, Balance Sheet, Cash Flow Statement) to assess revenue growth, profitability, debt levels, and cash flow generation.\"}, {'step_number': 4, 'action': 'analyze_valuation_and_profitability_ratios', 'tool_needed': 'financial_data_tool', 'description': 'Analyze key valuation multiples like Price-to-Earnings (P/E) and Price-to-Sales (P/S), and profitability ratios such as Return on Equity (ROE) and Profit Margins. Compare these to industry peers and historical averages to gauge valuation.'}, {'step_number': 5, 'action': 'search_recent_news_and_events', 'tool_needed': 'search_tool', 'description': 'Search for recent news, press releases, and significant events related to NVDA. Focus on catalysts such as earnings announcements, product launches (e.g., AI chips, GPUs), M&A activity, and major industry trends (e.g., AI, data centers, gaming).'}, {'step_number': 6, 'action': 'get_analyst_ratings_and_price_targets', 'tool_needed': 'financial_data_tool', 'description': 'Gather current analyst ratings (e.g., Buy, Hold, Sell), consensus price targets, and future earnings estimates to understand the prevailing sentiment from the professional investment community.'}, {'step_number': 7, 'action': 'synthesize_findings_and_formulate_conclusion', 'tool_needed': 'None', 'description': 'Consolidate all collected data—company profile, historical performance, financial health, valuation, news sentiment, and analyst ratings—to form a comprehensive investment thesis and conclusion on NVDA.'}]\n"
          ]
        }
      ]
    },
    {
      "cell_type": "code",
      "source": [
        "stock = yf.Ticker(\"NVDA\")\n",
        "hist = stock.history(period=\"30d\") # Get last 30 days of price data\n",
        "display_report(result, hist)"
      ],
      "metadata": {
        "id": "uYlR-ZQW985U"
      },
      "execution_count": null,
      "outputs": []
    }
  ]
}